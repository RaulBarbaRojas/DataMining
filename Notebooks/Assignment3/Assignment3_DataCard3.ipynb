{
  "cells": [
    {
      "cell_type": "markdown",
      "metadata": {
        "id": "y66Xk5ChRkge"
      },
      "source": [
        "# Third Assignment Part 3: optimal product prediction using regression"
      ]
    },
    {
      "cell_type": "markdown",
      "metadata": {
        "id": "Jba8I5qARshi"
      },
      "source": [
        "In this colab, we develop the third line of work proposed for the project: to predict which will be the best product, based on the expected expense per person. \n",
        "\n",
        "To perform this prediction, we will make use of the datacard 3, which contains data from all the different products, for all the regions of Spain, between years 2018 and 2019."
      ]
    },
    {
      "cell_type": "markdown",
      "metadata": {
        "id": "oLBsZtFlRrbA"
      },
      "source": [
        "The authors of the colab are:\n",
        "\n",
        "<table>\n",
        "  <thead>\n",
        "    <th>Name</th>\n",
        "    <th>Github</th>\n",
        "    <th>E-Mail</th>\n",
        "  </thead>\n",
        "  <tbody>\n",
        "    <tr>\n",
        "      <td>Raúl Barba Rojas</td>\n",
        "      <td><a href=\"https://github.com/RaulBarbaRojas\">RaulBarbaRojas</a></td>\n",
        "      <td><a href=\"mailto:Raul.Barba@alu.uclm.es\">Raul.Barba@alu.uclm.es</a></td>\n",
        "    </tr>\n",
        "    <tr>\n",
        "      <td>Diego Guerrero Del Pozo</td>\n",
        "      <td><a href=\"https://github.com/DiegoGDP\">DiegoGDP</a></td>\n",
        "      <td><a href=\"mailto:Diego.Guerrero@alu.uclm.es\">Diego.Guerrero@alu.uclm.es</a></td>\n",
        "    </tr>\n",
        "    <tr>\n",
        "      <td>Maja Anna Swierk</td>\n",
        "      <td><a href=\"https://github.com/manna8\">Manna8</a></td>\n",
        "      <td><a href=\"mailto:MajaAnna.Swierk@alu.uclm.es\">MajaAnna.Swierk@alu.uclm.es</a></td>\n",
        "    </tr>\n",
        "    <tr>\n",
        "      <td>Jakub Konieczny</td>\n",
        "      <td><a href=\"https://github.com/KubaKonieczny\">KubaKonieczny</a></td>\n",
        "      <td><a href=\"mailto:Jakub.Konieczny@alu.uclm.es\">Jakub.Konieczny@alu.uclm.es</a></td>\n",
        "    </tr>\n",
        "  </tbody>\n",
        "</table>"
      ]
    },
    {
      "cell_type": "markdown",
      "metadata": {
        "id": "w5MsNYUBSF40"
      },
      "source": [
        "# 1. Strategy to solve the problem"
      ]
    },
    {
      "cell_type": "markdown",
      "metadata": {
        "id": "X4F-kmmiSMJY"
      },
      "source": [
        "In order to solve the problem, we first need to decide which algorithm/s should be used to solve the problem.\n",
        "\n",
        "First of all, we have a regression problem, thus we have to apply algorithms that are able to perform regression. In this case, let us consider multiple algorithms to decide which of them fits better:\n",
        "\n",
        "- KNN (neighbor regression): this algorithm could be good for several reasons: we do not need a fast test stage (the prediction is not critical in terms of time), it can provide an adaptive behaviour... However, there is something that made us not choose this algorithm: it requires a sample that is large enough to solve the problem. In our case, although we have a lot of data, we dont have data from too many years (only 2), thus we consider that this algorithm would give a prediction not quite as accurate as other algorithms (also the model could overfit easily).\n",
        "\n",
        "- Random forests: we opted to use this algorithm as one possible algorithm for solving the problem. The main reasons are that overfitting is not a problem in this algorithm (you have multiple decision trees), and also, because as it is an ensemble model, we consider that the prediction could have a higher accuracy than other algorithms (such as a simple decision tree). There is one really important consideration: random forest regression cannot be performed outside of the range used for training. However, we have to consider something: since the year was proven to be a worthless variable, all the predictions will be inside the range used for training, thus the model can be applied to this case study.\n",
        "\n",
        "- GradientBoosting: it is another possible algorithm for solving our problem. Unlike the random forest, it is capable of performing regression outside of the range used for training, while still providing satisfactory results. Taking it into consideration, we will use this algorithm for regression.\n",
        "\n",
        "- SVM: we wanted to use this algorithm for regression (SVR), because it is widely known algorithm and, in the contrary to Random Forest and GradientBoosting, it does not base on ensembly. However, learning took too much time and didn't give good results, so we've decided to abandon developing this algorithm.\n",
        "\n",
        "- Neural networks: this option produces models able to provide the best results, specially if developed with a proper parametrization, like a good number of epochs to prevent overfitting. However, we do not implement this in our final solution since it was developed after using GradientBoosting."
      ]
    },
    {
      "cell_type": "markdown",
      "metadata": {
        "id": "_zv5plhaVygG"
      },
      "source": [
        "# 2. Preparing the google colab environment"
      ]
    },
    {
      "cell_type": "markdown",
      "metadata": {
        "id": "cCjw6z8oV0r7"
      },
      "source": [
        "This google colab requires the data file related to the datacard 3. \n",
        "\n",
        "For that reason, a file called `datacard_h3_not_normalized.txt` obtained from the [assignment 2 part 3 colab](https://colab.research.google.com/drive/1JfrM3z9dFb2kRn9BI9SfrOA7WsNf2_kL) must be uploaded in the /content/ directory."
      ]
    },
    {
      "cell_type": "markdown",
      "metadata": {
        "id": "UxpdiQX6WS0V"
      },
      "source": [
        "Once that has been done, we can load the datacard 3:"
      ]
    },
    {
      "cell_type": "code",
      "execution_count": null,
      "metadata": {
        "colab": {
          "base_uri": "https://localhost:8080/"
        },
        "id": "7zg2jFb2iYFV",
        "outputId": "d0cc8cfa-9699-471f-e80f-386f2f222385"
      },
      "outputs": [
        {
          "output_type": "stream",
          "name": "stdout",
          "text": [
            "Looking in indexes: https://pypi.org/simple, https://us-python.pkg.dev/colab-wheels/public/simple/\n",
            "Requirement already satisfied: scikit-learn in /usr/local/lib/python3.8/dist-packages (1.2.0)\n",
            "Requirement already satisfied: joblib>=1.1.1 in /usr/local/lib/python3.8/dist-packages (from scikit-learn) (1.2.0)\n",
            "Requirement already satisfied: threadpoolctl>=2.0.0 in /usr/local/lib/python3.8/dist-packages (from scikit-learn) (3.1.0)\n",
            "Requirement already satisfied: scipy>=1.3.2 in /usr/local/lib/python3.8/dist-packages (from scikit-learn) (1.7.3)\n",
            "Requirement already satisfied: numpy>=1.17.3 in /usr/local/lib/python3.8/dist-packages (from scikit-learn) (1.21.6)\n"
          ]
        }
      ],
      "source": [
        "!pip install -U scikit-learn"
      ]
    },
    {
      "cell_type": "code",
      "execution_count": null,
      "metadata": {
        "colab": {
          "base_uri": "https://localhost:8080/",
          "height": 111
        },
        "id": "05Aq5wlbWWRV",
        "outputId": "743b064f-44c6-4b5f-f48d-5206e00708e1"
      },
      "outputs": [
        {
          "output_type": "execute_result",
          "data": {
            "text/plain": [
              "Empty DataFrame\n",
              "Columns: [year, month, CCAA, Producto, GASTO X CAPITA, PENETRACION (%), PRECIO MEDIO kg ó litros]\n",
              "Index: []"
            ],
            "text/html": [
              "\n",
              "  <div id=\"df-62a5f89d-21f0-485c-b0a1-3b8452f8534b\">\n",
              "    <div class=\"colab-df-container\">\n",
              "      <div>\n",
              "<style scoped>\n",
              "    .dataframe tbody tr th:only-of-type {\n",
              "        vertical-align: middle;\n",
              "    }\n",
              "\n",
              "    .dataframe tbody tr th {\n",
              "        vertical-align: top;\n",
              "    }\n",
              "\n",
              "    .dataframe thead th {\n",
              "        text-align: right;\n",
              "    }\n",
              "</style>\n",
              "<table border=\"1\" class=\"dataframe\">\n",
              "  <thead>\n",
              "    <tr style=\"text-align: right;\">\n",
              "      <th></th>\n",
              "      <th>year</th>\n",
              "      <th>month</th>\n",
              "      <th>CCAA</th>\n",
              "      <th>Producto</th>\n",
              "      <th>GASTO X CAPITA</th>\n",
              "      <th>PENETRACION (%)</th>\n",
              "      <th>PRECIO MEDIO kg ó litros</th>\n",
              "    </tr>\n",
              "  </thead>\n",
              "  <tbody>\n",
              "  </tbody>\n",
              "</table>\n",
              "</div>\n",
              "      <button class=\"colab-df-convert\" onclick=\"convertToInteractive('df-62a5f89d-21f0-485c-b0a1-3b8452f8534b')\"\n",
              "              title=\"Convert this dataframe to an interactive table.\"\n",
              "              style=\"display:none;\">\n",
              "        \n",
              "  <svg xmlns=\"http://www.w3.org/2000/svg\" height=\"24px\"viewBox=\"0 0 24 24\"\n",
              "       width=\"24px\">\n",
              "    <path d=\"M0 0h24v24H0V0z\" fill=\"none\"/>\n",
              "    <path d=\"M18.56 5.44l.94 2.06.94-2.06 2.06-.94-2.06-.94-.94-2.06-.94 2.06-2.06.94zm-11 1L8.5 8.5l.94-2.06 2.06-.94-2.06-.94L8.5 2.5l-.94 2.06-2.06.94zm10 10l.94 2.06.94-2.06 2.06-.94-2.06-.94-.94-2.06-.94 2.06-2.06.94z\"/><path d=\"M17.41 7.96l-1.37-1.37c-.4-.4-.92-.59-1.43-.59-.52 0-1.04.2-1.43.59L10.3 9.45l-7.72 7.72c-.78.78-.78 2.05 0 2.83L4 21.41c.39.39.9.59 1.41.59.51 0 1.02-.2 1.41-.59l7.78-7.78 2.81-2.81c.8-.78.8-2.07 0-2.86zM5.41 20L4 18.59l7.72-7.72 1.47 1.35L5.41 20z\"/>\n",
              "  </svg>\n",
              "      </button>\n",
              "      \n",
              "  <style>\n",
              "    .colab-df-container {\n",
              "      display:flex;\n",
              "      flex-wrap:wrap;\n",
              "      gap: 12px;\n",
              "    }\n",
              "\n",
              "    .colab-df-convert {\n",
              "      background-color: #E8F0FE;\n",
              "      border: none;\n",
              "      border-radius: 50%;\n",
              "      cursor: pointer;\n",
              "      display: none;\n",
              "      fill: #1967D2;\n",
              "      height: 32px;\n",
              "      padding: 0 0 0 0;\n",
              "      width: 32px;\n",
              "    }\n",
              "\n",
              "    .colab-df-convert:hover {\n",
              "      background-color: #E2EBFA;\n",
              "      box-shadow: 0px 1px 2px rgba(60, 64, 67, 0.3), 0px 1px 3px 1px rgba(60, 64, 67, 0.15);\n",
              "      fill: #174EA6;\n",
              "    }\n",
              "\n",
              "    [theme=dark] .colab-df-convert {\n",
              "      background-color: #3B4455;\n",
              "      fill: #D2E3FC;\n",
              "    }\n",
              "\n",
              "    [theme=dark] .colab-df-convert:hover {\n",
              "      background-color: #434B5C;\n",
              "      box-shadow: 0px 1px 3px 1px rgba(0, 0, 0, 0.15);\n",
              "      filter: drop-shadow(0px 1px 2px rgba(0, 0, 0, 0.3));\n",
              "      fill: #FFFFFF;\n",
              "    }\n",
              "  </style>\n",
              "\n",
              "      <script>\n",
              "        const buttonEl =\n",
              "          document.querySelector('#df-62a5f89d-21f0-485c-b0a1-3b8452f8534b button.colab-df-convert');\n",
              "        buttonEl.style.display =\n",
              "          google.colab.kernel.accessAllowed ? 'block' : 'none';\n",
              "\n",
              "        async function convertToInteractive(key) {\n",
              "          const element = document.querySelector('#df-62a5f89d-21f0-485c-b0a1-3b8452f8534b');\n",
              "          const dataTable =\n",
              "            await google.colab.kernel.invokeFunction('convertToInteractive',\n",
              "                                                     [key], {});\n",
              "          if (!dataTable) return;\n",
              "\n",
              "          const docLinkHtml = 'Like what you see? Visit the ' +\n",
              "            '<a target=\"_blank\" href=https://colab.research.google.com/notebooks/data_table.ipynb>data table notebook</a>'\n",
              "            + ' to learn more about interactive tables.';\n",
              "          element.innerHTML = '';\n",
              "          dataTable['output_type'] = 'display_data';\n",
              "          await google.colab.output.renderOutput(dataTable, element);\n",
              "          const docLink = document.createElement('div');\n",
              "          docLink.innerHTML = docLinkHtml;\n",
              "          element.appendChild(docLink);\n",
              "        }\n",
              "      </script>\n",
              "    </div>\n",
              "  </div>\n",
              "  "
            ]
          },
          "metadata": {},
          "execution_count": 9
        }
      ],
      "source": [
        "import pandas as pd\n",
        "\n",
        "datacard3 = pd.read_csv('/content/datacard_h3_not_normalized.txt')\n",
        "datacard3.drop(columns = ['Unnamed: 0'], inplace = True)\n",
        "datacard3.fillna(0)\n",
        "datacard3[datacard3.isnull().any(axis=1)]"
      ]
    },
    {
      "cell_type": "markdown",
      "metadata": {
        "id": "0fgeYqXUSPPX"
      },
      "source": [
        "# 3. Generating training and test datasets"
      ]
    },
    {
      "cell_type": "markdown",
      "metadata": {
        "id": "opYxpl-1VXf8"
      },
      "source": [
        "We have to divide our dataset into two different parts: training and test. \n",
        "\n",
        "We decided to split it according to the following proportion: 80% training, 20% testing, because those are the normal proportions in order to train and test the machine learning models. Let us perform the division:"
      ]
    },
    {
      "cell_type": "code",
      "execution_count": null,
      "metadata": {
        "id": "jt_VoFpmqng_"
      },
      "outputs": [],
      "source": [
        "from sklearn.preprocessing import LabelEncoder\n",
        "from sklearn.preprocessing import StandardScaler\n",
        "from sklearn.model_selection import train_test_split\n",
        "\n",
        "encoder_regions = LabelEncoder()\n",
        "encoder_regions.fit(datacard3['CCAA'])\n",
        "datacard3['CCAA'] = encoder_regions.transform(datacard3['CCAA'])\n",
        "\n",
        "encoder_products = LabelEncoder()\n",
        "encoder_products.fit(datacard3['Producto'])\n",
        "datacard3['Producto'] = encoder_products.transform(datacard3['Producto'])\n",
        "\n",
        "datacard3.reset_index(inplace = True)\n",
        "datacard3.drop(columns = ['index', 'year'], errors = 'ignore', inplace = True)\n",
        "x_train, x_test, y_train, y_test = train_test_split(datacard3[['month', 'CCAA', 'Producto', 'PENETRACION (%)', 'PRECIO MEDIO kg ó litros']], datacard3[['GASTO X CAPITA']], test_size=0.2, random_state = 0)"
      ]
    },
    {
      "cell_type": "markdown",
      "metadata": {
        "id": "R6bDGggaXGpz"
      },
      "source": [
        "As a result of the previous code, we obtained the following variables:\n",
        "\n",
        "`x_train`: a variable that contains the training data (without the predicted value).\n",
        "\n",
        "`x_test`: a variable that contains the testing data (without the predicted value).\n",
        "\n",
        "`y_train`: a variable that contains the training values for each training record.\n",
        "\n",
        "`y_test`: a variable that contains the testing values for each testing record.\n"
      ]
    },
    {
      "cell_type": "markdown",
      "metadata": {
        "id": "i4iVKXevX-DP"
      },
      "source": [
        "# 4. Regression with random forests"
      ]
    },
    {
      "cell_type": "markdown",
      "metadata": {
        "id": "kYrh8MicYAzf"
      },
      "source": [
        "In this section we will apply random forests in order to perform the regression to obtain the model for predicting values.\n",
        "\n",
        "There is one really important consideration: random forest regression cannot be performed outside of the range used for training. However, we have to consider something: since the year was proven to be a worthless variable, all the predictions will be inside the range used for training, thus the model can be applied to this case study."
      ]
    },
    {
      "cell_type": "markdown",
      "metadata": {
        "id": "Ac7EUbODbnIj"
      },
      "source": [
        "## 4.1. Parametrization and model creation"
      ]
    },
    {
      "cell_type": "markdown",
      "metadata": {
        "id": "_5smeX37D9mK"
      },
      "source": [
        "In order to have the best possible results, we have to select the optimal hyperparameters for our problem. There are multiple options in order to perform hyperparametrization: random search, grid search, bayes search...\n",
        "\n",
        "In this case, we decided to use bayes search. The reason behind the decision is that it is quite fast to implement, and usually provides good results with fairly few iterations.\n",
        "\n",
        "Several values for the two parameters (number of estimators and maximum depth) have been tried, but, due to time limitations, only the best ones are show below. If there were any more, the time needed to run the code would be in the order of days."
      ]
    },
    {
      "cell_type": "code",
      "execution_count": null,
      "metadata": {
        "colab": {
          "base_uri": "https://localhost:8080/",
          "height": 1000
        },
        "id": "nAbyGLpY98L1",
        "outputId": "b283ce22-fcd7-457a-c9c4-261900240d8a"
      },
      "outputs": [
        {
          "name": "stdout",
          "output_type": "stream",
          "text": [
            "Fitting 5 folds for each of 4 candidates, totalling 20 fits\n"
          ]
        },
        {
          "name": "stderr",
          "output_type": "stream",
          "text": [
            "/usr/local/lib/python3.8/dist-packages/sklearn/model_selection/_validation.py:686: DataConversionWarning: A column-vector y was passed when a 1d array was expected. Please change the shape of y to (n_samples,), for example using ravel().\n",
            "  estimator.fit(X_train, y_train, **fit_params)\n"
          ]
        },
        {
          "name": "stdout",
          "output_type": "stream",
          "text": [
            "[CV] END ......................max_depth=4, n_estimators=512; total time= 4.2min\n"
          ]
        },
        {
          "name": "stderr",
          "output_type": "stream",
          "text": [
            "/usr/local/lib/python3.8/dist-packages/sklearn/model_selection/_validation.py:686: DataConversionWarning: A column-vector y was passed when a 1d array was expected. Please change the shape of y to (n_samples,), for example using ravel().\n",
            "  estimator.fit(X_train, y_train, **fit_params)\n"
          ]
        },
        {
          "name": "stdout",
          "output_type": "stream",
          "text": [
            "[CV] END ......................max_depth=4, n_estimators=512; total time= 4.1min\n"
          ]
        },
        {
          "name": "stderr",
          "output_type": "stream",
          "text": [
            "/usr/local/lib/python3.8/dist-packages/sklearn/model_selection/_validation.py:686: DataConversionWarning: A column-vector y was passed when a 1d array was expected. Please change the shape of y to (n_samples,), for example using ravel().\n",
            "  estimator.fit(X_train, y_train, **fit_params)\n"
          ]
        },
        {
          "name": "stdout",
          "output_type": "stream",
          "text": [
            "[CV] END ......................max_depth=4, n_estimators=512; total time= 4.2min\n"
          ]
        },
        {
          "name": "stderr",
          "output_type": "stream",
          "text": [
            "/usr/local/lib/python3.8/dist-packages/sklearn/model_selection/_validation.py:686: DataConversionWarning: A column-vector y was passed when a 1d array was expected. Please change the shape of y to (n_samples,), for example using ravel().\n",
            "  estimator.fit(X_train, y_train, **fit_params)\n"
          ]
        },
        {
          "name": "stdout",
          "output_type": "stream",
          "text": [
            "[CV] END ......................max_depth=4, n_estimators=512; total time= 4.2min\n"
          ]
        },
        {
          "name": "stderr",
          "output_type": "stream",
          "text": [
            "/usr/local/lib/python3.8/dist-packages/sklearn/model_selection/_validation.py:686: DataConversionWarning: A column-vector y was passed when a 1d array was expected. Please change the shape of y to (n_samples,), for example using ravel().\n",
            "  estimator.fit(X_train, y_train, **fit_params)\n"
          ]
        },
        {
          "name": "stdout",
          "output_type": "stream",
          "text": [
            "[CV] END ......................max_depth=4, n_estimators=512; total time= 4.1min\n"
          ]
        },
        {
          "name": "stderr",
          "output_type": "stream",
          "text": [
            "/usr/local/lib/python3.8/dist-packages/sklearn/model_selection/_validation.py:686: DataConversionWarning: A column-vector y was passed when a 1d array was expected. Please change the shape of y to (n_samples,), for example using ravel().\n",
            "  estimator.fit(X_train, y_train, **fit_params)\n"
          ]
        },
        {
          "name": "stdout",
          "output_type": "stream",
          "text": [
            "[CV] END .....................max_depth=4, n_estimators=1024; total time= 8.4min\n"
          ]
        },
        {
          "name": "stderr",
          "output_type": "stream",
          "text": [
            "/usr/local/lib/python3.8/dist-packages/sklearn/model_selection/_validation.py:686: DataConversionWarning: A column-vector y was passed when a 1d array was expected. Please change the shape of y to (n_samples,), for example using ravel().\n",
            "  estimator.fit(X_train, y_train, **fit_params)\n"
          ]
        },
        {
          "name": "stdout",
          "output_type": "stream",
          "text": [
            "[CV] END .....................max_depth=4, n_estimators=1024; total time= 8.5min\n"
          ]
        },
        {
          "name": "stderr",
          "output_type": "stream",
          "text": [
            "/usr/local/lib/python3.8/dist-packages/sklearn/model_selection/_validation.py:686: DataConversionWarning: A column-vector y was passed when a 1d array was expected. Please change the shape of y to (n_samples,), for example using ravel().\n",
            "  estimator.fit(X_train, y_train, **fit_params)\n"
          ]
        },
        {
          "name": "stdout",
          "output_type": "stream",
          "text": [
            "[CV] END .....................max_depth=4, n_estimators=1024; total time= 8.6min\n"
          ]
        },
        {
          "name": "stderr",
          "output_type": "stream",
          "text": [
            "/usr/local/lib/python3.8/dist-packages/sklearn/model_selection/_validation.py:686: DataConversionWarning: A column-vector y was passed when a 1d array was expected. Please change the shape of y to (n_samples,), for example using ravel().\n",
            "  estimator.fit(X_train, y_train, **fit_params)\n"
          ]
        },
        {
          "name": "stdout",
          "output_type": "stream",
          "text": [
            "[CV] END .....................max_depth=4, n_estimators=1024; total time= 8.4min\n"
          ]
        },
        {
          "name": "stderr",
          "output_type": "stream",
          "text": [
            "/usr/local/lib/python3.8/dist-packages/sklearn/model_selection/_validation.py:686: DataConversionWarning: A column-vector y was passed when a 1d array was expected. Please change the shape of y to (n_samples,), for example using ravel().\n",
            "  estimator.fit(X_train, y_train, **fit_params)\n"
          ]
        },
        {
          "name": "stdout",
          "output_type": "stream",
          "text": [
            "[CV] END .....................max_depth=4, n_estimators=1024; total time= 8.5min\n"
          ]
        },
        {
          "name": "stderr",
          "output_type": "stream",
          "text": [
            "/usr/local/lib/python3.8/dist-packages/sklearn/model_selection/_validation.py:686: DataConversionWarning: A column-vector y was passed when a 1d array was expected. Please change the shape of y to (n_samples,), for example using ravel().\n",
            "  estimator.fit(X_train, y_train, **fit_params)\n"
          ]
        },
        {
          "name": "stdout",
          "output_type": "stream",
          "text": [
            "[CV] END ......................max_depth=5, n_estimators=512; total time= 4.5min\n"
          ]
        },
        {
          "name": "stderr",
          "output_type": "stream",
          "text": [
            "/usr/local/lib/python3.8/dist-packages/sklearn/model_selection/_validation.py:686: DataConversionWarning: A column-vector y was passed when a 1d array was expected. Please change the shape of y to (n_samples,), for example using ravel().\n",
            "  estimator.fit(X_train, y_train, **fit_params)\n"
          ]
        },
        {
          "name": "stdout",
          "output_type": "stream",
          "text": [
            "[CV] END ......................max_depth=5, n_estimators=512; total time= 4.5min\n"
          ]
        },
        {
          "name": "stderr",
          "output_type": "stream",
          "text": [
            "/usr/local/lib/python3.8/dist-packages/sklearn/model_selection/_validation.py:686: DataConversionWarning: A column-vector y was passed when a 1d array was expected. Please change the shape of y to (n_samples,), for example using ravel().\n",
            "  estimator.fit(X_train, y_train, **fit_params)\n"
          ]
        },
        {
          "name": "stdout",
          "output_type": "stream",
          "text": [
            "[CV] END ......................max_depth=5, n_estimators=512; total time= 4.6min\n"
          ]
        },
        {
          "name": "stderr",
          "output_type": "stream",
          "text": [
            "/usr/local/lib/python3.8/dist-packages/sklearn/model_selection/_validation.py:686: DataConversionWarning: A column-vector y was passed when a 1d array was expected. Please change the shape of y to (n_samples,), for example using ravel().\n",
            "  estimator.fit(X_train, y_train, **fit_params)\n"
          ]
        },
        {
          "name": "stdout",
          "output_type": "stream",
          "text": [
            "[CV] END ......................max_depth=5, n_estimators=512; total time= 4.6min\n"
          ]
        },
        {
          "name": "stderr",
          "output_type": "stream",
          "text": [
            "/usr/local/lib/python3.8/dist-packages/sklearn/model_selection/_validation.py:686: DataConversionWarning: A column-vector y was passed when a 1d array was expected. Please change the shape of y to (n_samples,), for example using ravel().\n",
            "  estimator.fit(X_train, y_train, **fit_params)\n"
          ]
        },
        {
          "name": "stdout",
          "output_type": "stream",
          "text": [
            "[CV] END ......................max_depth=5, n_estimators=512; total time= 4.6min\n"
          ]
        },
        {
          "name": "stderr",
          "output_type": "stream",
          "text": [
            "/usr/local/lib/python3.8/dist-packages/sklearn/model_selection/_validation.py:686: DataConversionWarning: A column-vector y was passed when a 1d array was expected. Please change the shape of y to (n_samples,), for example using ravel().\n",
            "  estimator.fit(X_train, y_train, **fit_params)\n"
          ]
        },
        {
          "name": "stdout",
          "output_type": "stream",
          "text": [
            "[CV] END .....................max_depth=5, n_estimators=1024; total time= 9.1min\n"
          ]
        },
        {
          "name": "stderr",
          "output_type": "stream",
          "text": [
            "/usr/local/lib/python3.8/dist-packages/sklearn/model_selection/_validation.py:686: DataConversionWarning: A column-vector y was passed when a 1d array was expected. Please change the shape of y to (n_samples,), for example using ravel().\n",
            "  estimator.fit(X_train, y_train, **fit_params)\n"
          ]
        },
        {
          "name": "stdout",
          "output_type": "stream",
          "text": [
            "[CV] END .....................max_depth=5, n_estimators=1024; total time= 9.2min\n"
          ]
        },
        {
          "name": "stderr",
          "output_type": "stream",
          "text": [
            "/usr/local/lib/python3.8/dist-packages/sklearn/model_selection/_validation.py:686: DataConversionWarning: A column-vector y was passed when a 1d array was expected. Please change the shape of y to (n_samples,), for example using ravel().\n",
            "  estimator.fit(X_train, y_train, **fit_params)\n"
          ]
        },
        {
          "name": "stdout",
          "output_type": "stream",
          "text": [
            "[CV] END .....................max_depth=5, n_estimators=1024; total time= 9.2min\n"
          ]
        },
        {
          "name": "stderr",
          "output_type": "stream",
          "text": [
            "/usr/local/lib/python3.8/dist-packages/sklearn/model_selection/_validation.py:686: DataConversionWarning: A column-vector y was passed when a 1d array was expected. Please change the shape of y to (n_samples,), for example using ravel().\n",
            "  estimator.fit(X_train, y_train, **fit_params)\n"
          ]
        },
        {
          "name": "stdout",
          "output_type": "stream",
          "text": [
            "[CV] END .....................max_depth=5, n_estimators=1024; total time= 9.2min\n"
          ]
        },
        {
          "name": "stderr",
          "output_type": "stream",
          "text": [
            "/usr/local/lib/python3.8/dist-packages/sklearn/model_selection/_validation.py:686: DataConversionWarning: A column-vector y was passed when a 1d array was expected. Please change the shape of y to (n_samples,), for example using ravel().\n",
            "  estimator.fit(X_train, y_train, **fit_params)\n"
          ]
        },
        {
          "name": "stdout",
          "output_type": "stream",
          "text": [
            "[CV] END .....................max_depth=5, n_estimators=1024; total time= 9.2min\n"
          ]
        },
        {
          "name": "stderr",
          "output_type": "stream",
          "text": [
            "/usr/local/lib/python3.8/dist-packages/sklearn/model_selection/_search.py:910: DataConversionWarning: A column-vector y was passed when a 1d array was expected. Please change the shape of y to (n_samples,), for example using ravel().\n",
            "  self.best_estimator_.fit(X, y, **fit_params)\n"
          ]
        },
        {
          "data": {
            "text/html": [
              "<style>#sk-container-id-1 {color: black;background-color: white;}#sk-container-id-1 pre{padding: 0;}#sk-container-id-1 div.sk-toggleable {background-color: white;}#sk-container-id-1 label.sk-toggleable__label {cursor: pointer;display: block;width: 100%;margin-bottom: 0;padding: 0.3em;box-sizing: border-box;text-align: center;}#sk-container-id-1 label.sk-toggleable__label-arrow:before {content: \"▸\";float: left;margin-right: 0.25em;color: #696969;}#sk-container-id-1 label.sk-toggleable__label-arrow:hover:before {color: black;}#sk-container-id-1 div.sk-estimator:hover label.sk-toggleable__label-arrow:before {color: black;}#sk-container-id-1 div.sk-toggleable__content {max-height: 0;max-width: 0;overflow: hidden;text-align: left;background-color: #f0f8ff;}#sk-container-id-1 div.sk-toggleable__content pre {margin: 0.2em;color: black;border-radius: 0.25em;background-color: #f0f8ff;}#sk-container-id-1 input.sk-toggleable__control:checked~div.sk-toggleable__content {max-height: 200px;max-width: 100%;overflow: auto;}#sk-container-id-1 input.sk-toggleable__control:checked~label.sk-toggleable__label-arrow:before {content: \"▾\";}#sk-container-id-1 div.sk-estimator input.sk-toggleable__control:checked~label.sk-toggleable__label {background-color: #d4ebff;}#sk-container-id-1 div.sk-label input.sk-toggleable__control:checked~label.sk-toggleable__label {background-color: #d4ebff;}#sk-container-id-1 input.sk-hidden--visually {border: 0;clip: rect(1px 1px 1px 1px);clip: rect(1px, 1px, 1px, 1px);height: 1px;margin: -1px;overflow: hidden;padding: 0;position: absolute;width: 1px;}#sk-container-id-1 div.sk-estimator {font-family: monospace;background-color: #f0f8ff;border: 1px dotted black;border-radius: 0.25em;box-sizing: border-box;margin-bottom: 0.5em;}#sk-container-id-1 div.sk-estimator:hover {background-color: #d4ebff;}#sk-container-id-1 div.sk-parallel-item::after {content: \"\";width: 100%;border-bottom: 1px solid gray;flex-grow: 1;}#sk-container-id-1 div.sk-label:hover label.sk-toggleable__label {background-color: #d4ebff;}#sk-container-id-1 div.sk-serial::before {content: \"\";position: absolute;border-left: 1px solid gray;box-sizing: border-box;top: 0;bottom: 0;left: 50%;z-index: 0;}#sk-container-id-1 div.sk-serial {display: flex;flex-direction: column;align-items: center;background-color: white;padding-right: 0.2em;padding-left: 0.2em;position: relative;}#sk-container-id-1 div.sk-item {position: relative;z-index: 1;}#sk-container-id-1 div.sk-parallel {display: flex;align-items: stretch;justify-content: center;background-color: white;position: relative;}#sk-container-id-1 div.sk-item::before, #sk-container-id-1 div.sk-parallel-item::before {content: \"\";position: absolute;border-left: 1px solid gray;box-sizing: border-box;top: 0;bottom: 0;left: 50%;z-index: -1;}#sk-container-id-1 div.sk-parallel-item {display: flex;flex-direction: column;z-index: 1;position: relative;background-color: white;}#sk-container-id-1 div.sk-parallel-item:first-child::after {align-self: flex-end;width: 50%;}#sk-container-id-1 div.sk-parallel-item:last-child::after {align-self: flex-start;width: 50%;}#sk-container-id-1 div.sk-parallel-item:only-child::after {width: 0;}#sk-container-id-1 div.sk-dashed-wrapped {border: 1px dashed gray;margin: 0 0.4em 0.5em 0.4em;box-sizing: border-box;padding-bottom: 0.4em;background-color: white;}#sk-container-id-1 div.sk-label label {font-family: monospace;font-weight: bold;display: inline-block;line-height: 1.2em;}#sk-container-id-1 div.sk-label-container {text-align: center;}#sk-container-id-1 div.sk-container {/* jupyter's `normalize.less` sets `[hidden] { display: none; }` but bootstrap.min.css set `[hidden] { display: none !important; }` so we also need the `!important` here to be able to override the default hidden behavior on the sphinx rendered scikit-learn.org. See: https://github.com/scikit-learn/scikit-learn/issues/21755 */display: inline-block !important;position: relative;}#sk-container-id-1 div.sk-text-repr-fallback {display: none;}</style><div id=\"sk-container-id-1\" class=\"sk-top-container\"><div class=\"sk-text-repr-fallback\"><pre>GridSearchCV(cv=5,\n",
              "             estimator=RandomForestRegressor(criterion=&#x27;absolute_error&#x27;,\n",
              "                                             n_jobs=-1, random_state=0),\n",
              "             param_grid={&#x27;max_depth&#x27;: [4, 5], &#x27;n_estimators&#x27;: [512, 1024]},\n",
              "             verbose=2)</pre><b>In a Jupyter environment, please rerun this cell to show the HTML representation or trust the notebook. <br />On GitHub, the HTML representation is unable to render, please try loading this page with nbviewer.org.</b></div><div class=\"sk-container\" hidden><div class=\"sk-item sk-dashed-wrapped\"><div class=\"sk-label-container\"><div class=\"sk-label sk-toggleable\"><input class=\"sk-toggleable__control sk-hidden--visually\" id=\"sk-estimator-id-1\" type=\"checkbox\" ><label for=\"sk-estimator-id-1\" class=\"sk-toggleable__label sk-toggleable__label-arrow\">GridSearchCV</label><div class=\"sk-toggleable__content\"><pre>GridSearchCV(cv=5,\n",
              "             estimator=RandomForestRegressor(criterion=&#x27;absolute_error&#x27;,\n",
              "                                             n_jobs=-1, random_state=0),\n",
              "             param_grid={&#x27;max_depth&#x27;: [4, 5], &#x27;n_estimators&#x27;: [512, 1024]},\n",
              "             verbose=2)</pre></div></div></div><div class=\"sk-parallel\"><div class=\"sk-parallel-item\"><div class=\"sk-item\"><div class=\"sk-label-container\"><div class=\"sk-label sk-toggleable\"><input class=\"sk-toggleable__control sk-hidden--visually\" id=\"sk-estimator-id-2\" type=\"checkbox\" ><label for=\"sk-estimator-id-2\" class=\"sk-toggleable__label sk-toggleable__label-arrow\">estimator: RandomForestRegressor</label><div class=\"sk-toggleable__content\"><pre>RandomForestRegressor(criterion=&#x27;absolute_error&#x27;, n_jobs=-1, random_state=0)</pre></div></div></div><div class=\"sk-serial\"><div class=\"sk-item\"><div class=\"sk-estimator sk-toggleable\"><input class=\"sk-toggleable__control sk-hidden--visually\" id=\"sk-estimator-id-3\" type=\"checkbox\" ><label for=\"sk-estimator-id-3\" class=\"sk-toggleable__label sk-toggleable__label-arrow\">RandomForestRegressor</label><div class=\"sk-toggleable__content\"><pre>RandomForestRegressor(criterion=&#x27;absolute_error&#x27;, n_jobs=-1, random_state=0)</pre></div></div></div></div></div></div></div></div></div></div>"
            ],
            "text/plain": [
              "GridSearchCV(cv=5,\n",
              "             estimator=RandomForestRegressor(criterion='absolute_error',\n",
              "                                             n_jobs=-1, random_state=0),\n",
              "             param_grid={'max_depth': [4, 5], 'n_estimators': [512, 1024]},\n",
              "             verbose=2)"
            ]
          },
          "execution_count": 7,
          "metadata": {},
          "output_type": "execute_result"
        }
      ],
      "source": [
        "from sklearn.ensemble import RandomForestRegressor\n",
        "from sklearn.metrics import mean_absolute_error\n",
        "from sklearn.metrics import mean_squared_error\n",
        "from sklearn.metrics import r2_score\n",
        "from sklearn.model_selection import GridSearchCV\n",
        "\n",
        "params = {\n",
        "    \"n_estimators\": [512, 1024],\n",
        "    \"max_depth\": [4, 5],\n",
        "}\n",
        "\n",
        "RFregressor = RandomForestRegressor(criterion = 'absolute_error', n_jobs = -1, random_state = 0)\n",
        "grid_search_models = GridSearchCV(estimator = RFregressor, cv = 5, refit = True, param_grid = params, verbose = 2)\n",
        "grid_search_models.fit(x_train, y_train)"
      ]
    },
    {
      "cell_type": "markdown",
      "source": [
        "Below, we show the score of the best model as well as its parameters:"
      ],
      "metadata": {
        "id": "u5CACUqenpI1"
      }
    },
    {
      "cell_type": "code",
      "execution_count": null,
      "metadata": {
        "colab": {
          "base_uri": "https://localhost:8080/"
        },
        "id": "7JL61om2BYY-",
        "outputId": "d9fba124-e013-4979-ed8d-0690278d653d"
      },
      "outputs": [
        {
          "name": "stdout",
          "output_type": "stream",
          "text": [
            "Best score: 0.7830742790611387\n",
            "Best parameters: {'max_depth': 5, 'n_estimators': 512}\n"
          ]
        }
      ],
      "source": [
        "print(\"Best score:\", str(grid_search_models.best_score_))\n",
        "print(\"Best parameters:\", str(grid_search_models.best_params_))"
      ]
    },
    {
      "cell_type": "markdown",
      "metadata": {
        "id": "B8dXHDFAbkz5"
      },
      "source": [
        "## 4.2. Results evaluation"
      ]
    },
    {
      "cell_type": "markdown",
      "metadata": {
        "id": "9mP9H7AfEtWC"
      },
      "source": [
        "Now let us launch the optimization study. In this case, the idea is to minimize the error (or maximize the score):"
      ]
    },
    {
      "cell_type": "markdown",
      "metadata": {
        "id": "01wf6YQEuhQz"
      },
      "source": [
        "### 4.2.1. MAE"
      ]
    },
    {
      "cell_type": "markdown",
      "metadata": {
        "id": "63MjjWpd5k2H"
      },
      "source": [
        "First, we can try with MAE:"
      ]
    },
    {
      "cell_type": "code",
      "execution_count": null,
      "metadata": {
        "colab": {
          "base_uri": "https://localhost:8080/"
        },
        "id": "ACWbJkleuyX6",
        "outputId": "b17c4543-c878-4438-d95e-9e30896b1eb0"
      },
      "outputs": [
        {
          "name": "stdout",
          "output_type": "stream",
          "text": [
            "Error with MAE: 0.1403497799536026\n"
          ]
        }
      ],
      "source": [
        "mae = mean_absolute_error(y_test, grid_search_models.predict(x_test))\n",
        "print(\"Error with MAE:\",  mae)"
      ]
    },
    {
      "cell_type": "markdown",
      "metadata": {
        "id": "UXuQrkrlukWp"
      },
      "source": [
        "### 4.2.2. MSE"
      ]
    },
    {
      "cell_type": "markdown",
      "metadata": {
        "id": "5BS9bVvk594s"
      },
      "source": [
        "After trying with MAE, we can use MSE:"
      ]
    },
    {
      "cell_type": "code",
      "execution_count": null,
      "metadata": {
        "colab": {
          "base_uri": "https://localhost:8080/"
        },
        "id": "av2sxSSZu4Eo",
        "outputId": "96cb6e4f-5c0c-4333-9754-4a076c70b432"
      },
      "outputs": [
        {
          "name": "stdout",
          "output_type": "stream",
          "text": [
            "Error with MSE: 0.07029873935935456\n"
          ]
        }
      ],
      "source": [
        "mse = mean_squared_error(y_test, grid_search_models.predict(x_test))\n",
        "print(\"Error with MSE:\",  mse)"
      ]
    },
    {
      "cell_type": "markdown",
      "metadata": {
        "id": "qwfu2PFgwMo2"
      },
      "source": [
        "### 4.2.3. R2 Score\n"
      ]
    },
    {
      "cell_type": "markdown",
      "metadata": {
        "id": "dL9oN3sP6Ci6"
      },
      "source": [
        "We can also import the R2 score to test it:"
      ]
    },
    {
      "cell_type": "code",
      "execution_count": null,
      "metadata": {
        "colab": {
          "base_uri": "https://localhost:8080/"
        },
        "id": "R2633kvJwQXa",
        "outputId": "15d90cc2-f2b0-4af2-a5d9-d61d6dd330ef"
      },
      "outputs": [
        {
          "name": "stdout",
          "output_type": "stream",
          "text": [
            "Error with R2 score: 0.7664677640430302\n"
          ]
        }
      ],
      "source": [
        "r2 = r2_score(y_test, grid_search_models.predict(x_test))\n",
        "print(\"Error with R2 score:\",  r2)"
      ]
    },
    {
      "cell_type": "markdown",
      "metadata": {
        "id": "-a4etLuZx-D_"
      },
      "source": [
        "### 4.2.4. RMSE"
      ]
    },
    {
      "cell_type": "markdown",
      "metadata": {
        "id": "iBqoMMt16KjD"
      },
      "source": [
        "Finally, we can use RMSE:"
      ]
    },
    {
      "cell_type": "code",
      "execution_count": null,
      "metadata": {
        "colab": {
          "base_uri": "https://localhost:8080/"
        },
        "id": "7RssNGBSyBAD",
        "outputId": "5d0e542c-1921-4816-9b56-5ba1e9a866c6"
      },
      "outputs": [
        {
          "name": "stdout",
          "output_type": "stream",
          "text": [
            "Error with RMSE: 0.2651390943624771\n"
          ]
        }
      ],
      "source": [
        "rmse = mean_squared_error(y_test, grid_search_models.predict(x_test), squared=False)\n",
        "print(\"Error with RMSE:\",  rmse)"
      ]
    },
    {
      "cell_type": "markdown",
      "metadata": {
        "id": "i4YEoDgf5L2V"
      },
      "source": [
        "## 4.3. Saving the model"
      ]
    },
    {
      "cell_type": "markdown",
      "metadata": {
        "id": "pKjquS6Y5avN"
      },
      "source": [
        "We are can save the best Random Forest model as joblib file named: `random_forest_model.joblib`"
      ]
    },
    {
      "cell_type": "code",
      "execution_count": null,
      "metadata": {
        "colab": {
          "base_uri": "https://localhost:8080/"
        },
        "id": "Sw-3DjdE5Oxm",
        "outputId": "6a87f555-ec3e-48f5-90a3-6773076875f9"
      },
      "outputs": [
        {
          "data": {
            "text/plain": [
              "['random_forest_model.joblib']"
            ]
          },
          "execution_count": 14,
          "metadata": {},
          "output_type": "execute_result"
        }
      ],
      "source": [
        "import joblib\n",
        "joblib.dump(grid_search_models, 'random_forest_model.joblib')"
      ]
    },
    {
      "cell_type": "markdown",
      "metadata": {
        "id": "rV-kVf5I72ok"
      },
      "source": [
        "# 5. Regression with GradientBoosting"
      ]
    },
    {
      "cell_type": "markdown",
      "metadata": {
        "id": "7UX7gXh0tNZc"
      },
      "source": [
        "In this section we will apply Gradient Boosting in order to perform the regression to obtain the model for predicting values.\n",
        "\\\n",
        "Gradient Boosting, in contrary to Random Forest, is able to predict outside of the range used for training.\n"
      ]
    },
    {
      "cell_type": "markdown",
      "metadata": {
        "id": "YxQ5_nEMKWvM"
      },
      "source": [
        "## 5.1. Parametrization\n"
      ]
    },
    {
      "cell_type": "markdown",
      "metadata": {
        "id": "IVFBBIygo-5T"
      },
      "source": [
        "In the first attempt of chosing parameters we set max_depth up to 10, being 10 the chosen value, but overfitting occured. Because of this, we decided to check the depth only in range between 1 and 5."
      ]
    },
    {
      "cell_type": "code",
      "execution_count": null,
      "metadata": {
        "colab": {
          "base_uri": "https://localhost:8080/"
        },
        "id": "F2L27DBQ76H2",
        "outputId": "15318581-e16e-432f-9b64-ded4db6647a7"
      },
      "outputs": [
        {
          "name": "stdout",
          "output_type": "stream",
          "text": [
            "Looking in indexes: https://pypi.org/simple, https://us-python.pkg.dev/colab-wheels/public/simple/\n",
            "Collecting scikit-optimize\n",
            "  Downloading scikit_optimize-0.9.0-py2.py3-none-any.whl (100 kB)\n",
            "\u001b[2K     \u001b[90m━━━━━━━━━━━━━━━━━━━━━━━━━━━━━━━━━━━━━━━\u001b[0m \u001b[32m100.3/100.3 KB\u001b[0m \u001b[31m4.3 MB/s\u001b[0m eta \u001b[36m0:00:00\u001b[0m\n",
            "\u001b[?25hRequirement already satisfied: numpy>=1.13.3 in /usr/local/lib/python3.8/dist-packages (from scikit-optimize) (1.21.6)\n",
            "Collecting pyaml>=16.9\n",
            "  Downloading pyaml-21.10.1-py2.py3-none-any.whl (24 kB)\n",
            "Requirement already satisfied: joblib>=0.11 in /usr/local/lib/python3.8/dist-packages (from scikit-optimize) (1.2.0)\n",
            "Requirement already satisfied: scipy>=0.19.1 in /usr/local/lib/python3.8/dist-packages (from scikit-optimize) (1.7.3)\n",
            "Requirement already satisfied: scikit-learn>=0.20.0 in /usr/local/lib/python3.8/dist-packages (from scikit-optimize) (1.2.0)\n",
            "Requirement already satisfied: PyYAML in /usr/local/lib/python3.8/dist-packages (from pyaml>=16.9->scikit-optimize) (6.0)\n",
            "Requirement already satisfied: threadpoolctl>=2.0.0 in /usr/local/lib/python3.8/dist-packages (from scikit-learn>=0.20.0->scikit-optimize) (3.1.0)\n",
            "Installing collected packages: pyaml, scikit-optimize\n",
            "Successfully installed pyaml-21.10.1 scikit-optimize-0.9.0\n"
          ]
        }
      ],
      "source": [
        "!pip install scikit-optimize"
      ]
    },
    {
      "cell_type": "markdown",
      "metadata": {
        "id": "Xm1uv2_58KV1"
      },
      "source": [
        "We set the parameters to be tried during the parametrization:"
      ]
    },
    {
      "cell_type": "code",
      "execution_count": null,
      "metadata": {
        "id": "axp9YdgIKZnD"
      },
      "outputs": [],
      "source": [
        "import random\n",
        "params = {\n",
        "    \"n_estimators\": [10, 50, 100, 200, 300, 500, 1000],\n",
        "    \"max_depth\": [1,2, 3, 4, 5],\n",
        "    \"min_samples_split\": [2, 5, 10, 20],\n",
        "    \"learning_rate\": [1e-5, 1e-4, 1e-3, 1e-2, 1e-1, 1, 10, 100] ,\n",
        "    \"loss\": [\"squared_error\", \"absolute_error\", \"huber\"]\n",
        "}"
      ]
    },
    {
      "cell_type": "markdown",
      "metadata": {
        "id": "wB3_zyks8sK7"
      },
      "source": [
        "And we build and fit the model:"
      ]
    },
    {
      "cell_type": "code",
      "execution_count": null,
      "metadata": {
        "colab": {
          "base_uri": "https://localhost:8080/",
          "height": 711
        },
        "id": "0R6As73J_ZgJ",
        "outputId": "f698c6d2-25d0-4e2b-f646-c0dd216825d2"
      },
      "outputs": [
        {
          "name": "stdout",
          "output_type": "stream",
          "text": [
            "Fitting 5 folds for each of 100 candidates, totalling 500 fits\n"
          ]
        },
        {
          "name": "stderr",
          "output_type": "stream",
          "text": [
            "/usr/local/lib/python3.8/dist-packages/sklearn/model_selection/_search.py:953: UserWarning: One or more of the test scores are non-finite: [ 6.68271120e-002  1.41200691e-001  5.00054570e-001             -inf\n",
            "             -inf              nan  8.90191322e-001 -5.85501472e-002\n",
            "  8.56397150e-001 -4.29123018e+039 -6.20437377e+190 -2.01337386e+095\n",
            "             -inf  8.51112420e-001 -6.06680073e+190  2.47453792e-001\n",
            "  3.52709413e-001  8.28750106e-001  4.06100844e-002  8.75814187e-001\n",
            "  2.35966450e-002  8.95533177e-001  7.70840766e-001  8.31430324e-001\n",
            "  8.64230241e-001 -6.35382247e+039              nan  8.60398394e-001\n",
            "  8.45566207e-001  8.52468893e-001              nan             -inf\n",
            "  6.02130134e-001  8.54493188e-001              nan              nan\n",
            "  8.69419166e-001  8.97242726e-001             -inf  5.84895858e-001\n",
            " -1.31564884e-001  8.57757479e-001  2.56834882e-001 -3.07521505e-002\n",
            " -7.88616011e-002  8.63896338e-001              nan  6.03362979e-002\n",
            "  8.38122885e-001 -1.37187140e-001 -1.37843892e-001              nan\n",
            "             -inf              nan             -inf  6.63089070e-001\n",
            "  8.47266369e-001  4.47342569e-001  8.47583714e-001             -inf\n",
            "             -inf -7.94349157e+039              nan  8.88284100e-001\n",
            "  7.92706333e-001  8.82646852e-001 -1.30071918e-001 -1.24476433e-001\n",
            "  7.79515847e-001              nan -4.83507919e-002              nan\n",
            "  7.70840766e-001  4.88912392e-001  6.78065142e-004  7.45238236e-001\n",
            " -1.37898519e-001 -1.37279665e-001  1.32030661e-001  8.69988329e-001\n",
            "  3.66520434e-002 -2.44221385e+190             -inf  8.42219783e-001\n",
            "  7.79485920e-001 -5.28173429e+190 -1.23561293e-001  4.06135862e-005\n",
            "  8.67901955e-001  8.00825718e-001              nan -1.89523539e-002\n",
            "  5.80470136e-001  1.35779660e-001             -inf              nan\n",
            "             -inf -5.34780262e+190  5.30262829e-001  8.00821625e-001]\n",
            "  warnings.warn(\n",
            "/usr/local/lib/python3.8/dist-packages/sklearn/model_selection/_search.py:962: RuntimeWarning: invalid value encountered in subtract\n",
            "  (array - array_means[:, np.newaxis]) ** 2, axis=1, weights=weights\n",
            "/usr/local/lib/python3.8/dist-packages/sklearn/model_selection/_search.py:962: RuntimeWarning: overflow encountered in square\n",
            "  (array - array_means[:, np.newaxis]) ** 2, axis=1, weights=weights\n",
            "/usr/local/lib/python3.8/dist-packages/sklearn/ensemble/_gb.py:437: DataConversionWarning: A column-vector y was passed when a 1d array was expected. Please change the shape of y to (n_samples, ), for example using ravel().\n",
            "  y = column_or_1d(y, warn=True)\n"
          ]
        },
        {
          "data": {
            "text/html": [
              "<style>#sk-container-id-1 {color: black;background-color: white;}#sk-container-id-1 pre{padding: 0;}#sk-container-id-1 div.sk-toggleable {background-color: white;}#sk-container-id-1 label.sk-toggleable__label {cursor: pointer;display: block;width: 100%;margin-bottom: 0;padding: 0.3em;box-sizing: border-box;text-align: center;}#sk-container-id-1 label.sk-toggleable__label-arrow:before {content: \"▸\";float: left;margin-right: 0.25em;color: #696969;}#sk-container-id-1 label.sk-toggleable__label-arrow:hover:before {color: black;}#sk-container-id-1 div.sk-estimator:hover label.sk-toggleable__label-arrow:before {color: black;}#sk-container-id-1 div.sk-toggleable__content {max-height: 0;max-width: 0;overflow: hidden;text-align: left;background-color: #f0f8ff;}#sk-container-id-1 div.sk-toggleable__content pre {margin: 0.2em;color: black;border-radius: 0.25em;background-color: #f0f8ff;}#sk-container-id-1 input.sk-toggleable__control:checked~div.sk-toggleable__content {max-height: 200px;max-width: 100%;overflow: auto;}#sk-container-id-1 input.sk-toggleable__control:checked~label.sk-toggleable__label-arrow:before {content: \"▾\";}#sk-container-id-1 div.sk-estimator input.sk-toggleable__control:checked~label.sk-toggleable__label {background-color: #d4ebff;}#sk-container-id-1 div.sk-label input.sk-toggleable__control:checked~label.sk-toggleable__label {background-color: #d4ebff;}#sk-container-id-1 input.sk-hidden--visually {border: 0;clip: rect(1px 1px 1px 1px);clip: rect(1px, 1px, 1px, 1px);height: 1px;margin: -1px;overflow: hidden;padding: 0;position: absolute;width: 1px;}#sk-container-id-1 div.sk-estimator {font-family: monospace;background-color: #f0f8ff;border: 1px dotted black;border-radius: 0.25em;box-sizing: border-box;margin-bottom: 0.5em;}#sk-container-id-1 div.sk-estimator:hover {background-color: #d4ebff;}#sk-container-id-1 div.sk-parallel-item::after {content: \"\";width: 100%;border-bottom: 1px solid gray;flex-grow: 1;}#sk-container-id-1 div.sk-label:hover label.sk-toggleable__label {background-color: #d4ebff;}#sk-container-id-1 div.sk-serial::before {content: \"\";position: absolute;border-left: 1px solid gray;box-sizing: border-box;top: 0;bottom: 0;left: 50%;z-index: 0;}#sk-container-id-1 div.sk-serial {display: flex;flex-direction: column;align-items: center;background-color: white;padding-right: 0.2em;padding-left: 0.2em;position: relative;}#sk-container-id-1 div.sk-item {position: relative;z-index: 1;}#sk-container-id-1 div.sk-parallel {display: flex;align-items: stretch;justify-content: center;background-color: white;position: relative;}#sk-container-id-1 div.sk-item::before, #sk-container-id-1 div.sk-parallel-item::before {content: \"\";position: absolute;border-left: 1px solid gray;box-sizing: border-box;top: 0;bottom: 0;left: 50%;z-index: -1;}#sk-container-id-1 div.sk-parallel-item {display: flex;flex-direction: column;z-index: 1;position: relative;background-color: white;}#sk-container-id-1 div.sk-parallel-item:first-child::after {align-self: flex-end;width: 50%;}#sk-container-id-1 div.sk-parallel-item:last-child::after {align-self: flex-start;width: 50%;}#sk-container-id-1 div.sk-parallel-item:only-child::after {width: 0;}#sk-container-id-1 div.sk-dashed-wrapped {border: 1px dashed gray;margin: 0 0.4em 0.5em 0.4em;box-sizing: border-box;padding-bottom: 0.4em;background-color: white;}#sk-container-id-1 div.sk-label label {font-family: monospace;font-weight: bold;display: inline-block;line-height: 1.2em;}#sk-container-id-1 div.sk-label-container {text-align: center;}#sk-container-id-1 div.sk-container {/* jupyter's `normalize.less` sets `[hidden] { display: none; }` but bootstrap.min.css set `[hidden] { display: none !important; }` so we also need the `!important` here to be able to override the default hidden behavior on the sphinx rendered scikit-learn.org. See: https://github.com/scikit-learn/scikit-learn/issues/21755 */display: inline-block !important;position: relative;}#sk-container-id-1 div.sk-text-repr-fallback {display: none;}</style><div id=\"sk-container-id-1\" class=\"sk-top-container\"><div class=\"sk-text-repr-fallback\"><pre>RandomizedSearchCV(cv=5, estimator=GradientBoostingRegressor(), n_iter=100,\n",
              "                   n_jobs=-1,\n",
              "                   param_distributions={&#x27;learning_rate&#x27;: [1e-05, 0.0001, 0.001,\n",
              "                                                          0.01, 0.1, 1, 10,\n",
              "                                                          100],\n",
              "                                        &#x27;loss&#x27;: [&#x27;squared_error&#x27;,\n",
              "                                                 &#x27;absolute_error&#x27;, &#x27;huber&#x27;],\n",
              "                                        &#x27;max_depth&#x27;: [1, 2, 3, 4, 5],\n",
              "                                        &#x27;min_samples_split&#x27;: [2, 5, 10, 20],\n",
              "                                        &#x27;n_estimators&#x27;: [10, 50, 100, 200, 300,\n",
              "                                                         500, 1000]},\n",
              "                   verbose=3)</pre><b>In a Jupyter environment, please rerun this cell to show the HTML representation or trust the notebook. <br />On GitHub, the HTML representation is unable to render, please try loading this page with nbviewer.org.</b></div><div class=\"sk-container\" hidden><div class=\"sk-item sk-dashed-wrapped\"><div class=\"sk-label-container\"><div class=\"sk-label sk-toggleable\"><input class=\"sk-toggleable__control sk-hidden--visually\" id=\"sk-estimator-id-1\" type=\"checkbox\" ><label for=\"sk-estimator-id-1\" class=\"sk-toggleable__label sk-toggleable__label-arrow\">RandomizedSearchCV</label><div class=\"sk-toggleable__content\"><pre>RandomizedSearchCV(cv=5, estimator=GradientBoostingRegressor(), n_iter=100,\n",
              "                   n_jobs=-1,\n",
              "                   param_distributions={&#x27;learning_rate&#x27;: [1e-05, 0.0001, 0.001,\n",
              "                                                          0.01, 0.1, 1, 10,\n",
              "                                                          100],\n",
              "                                        &#x27;loss&#x27;: [&#x27;squared_error&#x27;,\n",
              "                                                 &#x27;absolute_error&#x27;, &#x27;huber&#x27;],\n",
              "                                        &#x27;max_depth&#x27;: [1, 2, 3, 4, 5],\n",
              "                                        &#x27;min_samples_split&#x27;: [2, 5, 10, 20],\n",
              "                                        &#x27;n_estimators&#x27;: [10, 50, 100, 200, 300,\n",
              "                                                         500, 1000]},\n",
              "                   verbose=3)</pre></div></div></div><div class=\"sk-parallel\"><div class=\"sk-parallel-item\"><div class=\"sk-item\"><div class=\"sk-label-container\"><div class=\"sk-label sk-toggleable\"><input class=\"sk-toggleable__control sk-hidden--visually\" id=\"sk-estimator-id-2\" type=\"checkbox\" ><label for=\"sk-estimator-id-2\" class=\"sk-toggleable__label sk-toggleable__label-arrow\">estimator: GradientBoostingRegressor</label><div class=\"sk-toggleable__content\"><pre>GradientBoostingRegressor()</pre></div></div></div><div class=\"sk-serial\"><div class=\"sk-item\"><div class=\"sk-estimator sk-toggleable\"><input class=\"sk-toggleable__control sk-hidden--visually\" id=\"sk-estimator-id-3\" type=\"checkbox\" ><label for=\"sk-estimator-id-3\" class=\"sk-toggleable__label sk-toggleable__label-arrow\">GradientBoostingRegressor</label><div class=\"sk-toggleable__content\"><pre>GradientBoostingRegressor()</pre></div></div></div></div></div></div></div></div></div></div>"
            ],
            "text/plain": [
              "RandomizedSearchCV(cv=5, estimator=GradientBoostingRegressor(), n_iter=100,\n",
              "                   n_jobs=-1,\n",
              "                   param_distributions={'learning_rate': [1e-05, 0.0001, 0.001,\n",
              "                                                          0.01, 0.1, 1, 10,\n",
              "                                                          100],\n",
              "                                        'loss': ['squared_error',\n",
              "                                                 'absolute_error', 'huber'],\n",
              "                                        'max_depth': [1, 2, 3, 4, 5],\n",
              "                                        'min_samples_split': [2, 5, 10, 20],\n",
              "                                        'n_estimators': [10, 50, 100, 200, 300,\n",
              "                                                         500, 1000]},\n",
              "                   verbose=3)"
            ]
          },
          "execution_count": 9,
          "metadata": {},
          "output_type": "execute_result"
        }
      ],
      "source": [
        "from sklearn import ensemble\n",
        "from skopt import BayesSearchCV\n",
        "from sklearn.model_selection import RandomizedSearchCV\n",
        "\n",
        "search = RandomizedSearchCV(estimator=ensemble.GradientBoostingRegressor(), param_distributions=params, n_jobs=-1, cv=5, n_iter=100, verbose=3)\n",
        "search.fit(x_train, y_train)"
      ]
    },
    {
      "cell_type": "markdown",
      "metadata": {
        "id": "wGKHqptq8yN4"
      },
      "source": [
        "Finally, we print the results obtained:"
      ]
    },
    {
      "cell_type": "code",
      "execution_count": null,
      "metadata": {
        "colab": {
          "base_uri": "https://localhost:8080/"
        },
        "id": "KFQHGXNZbj3X",
        "outputId": "cdfc59dc-23c8-4d9c-c1b1-7dcb0678f384"
      },
      "outputs": [
        {
          "name": "stdout",
          "output_type": "stream",
          "text": [
            "Best score: 0.8965865716043615\n",
            "Best parameters: {'n_estimators': 200, 'min_samples_split': 2, 'max_depth': 5, 'loss': 'squared_error', 'learning_rate': 0.1}\n"
          ]
        }
      ],
      "source": [
        "print(\"Best score:\", str(search.best_score_))\n",
        "print(\"Best parameters:\", str(search.best_params_))"
      ]
    },
    {
      "cell_type": "markdown",
      "metadata": {
        "id": "ueEoo9FzK2pF"
      },
      "source": [
        "## 5.2. Model creation\n"
      ]
    },
    {
      "cell_type": "markdown",
      "metadata": {
        "id": "E2JJiDLP867v"
      },
      "source": [
        "In this section we will build the model with the Gradient Boosting Regressor:"
      ]
    },
    {
      "cell_type": "code",
      "execution_count": null,
      "metadata": {
        "colab": {
          "base_uri": "https://localhost:8080/",
          "height": 129
        },
        "id": "nvW1jxCNK6R2",
        "outputId": "41533573-3b68-45f1-e53d-b184c5d4fa93"
      },
      "outputs": [
        {
          "name": "stderr",
          "output_type": "stream",
          "text": [
            "/usr/local/lib/python3.8/dist-packages/sklearn/ensemble/_gb.py:437: DataConversionWarning: A column-vector y was passed when a 1d array was expected. Please change the shape of y to (n_samples, ), for example using ravel().\n",
            "  y = column_or_1d(y, warn=True)\n"
          ]
        },
        {
          "data": {
            "text/html": [
              "<style>#sk-container-id-3 {color: black;background-color: white;}#sk-container-id-3 pre{padding: 0;}#sk-container-id-3 div.sk-toggleable {background-color: white;}#sk-container-id-3 label.sk-toggleable__label {cursor: pointer;display: block;width: 100%;margin-bottom: 0;padding: 0.3em;box-sizing: border-box;text-align: center;}#sk-container-id-3 label.sk-toggleable__label-arrow:before {content: \"▸\";float: left;margin-right: 0.25em;color: #696969;}#sk-container-id-3 label.sk-toggleable__label-arrow:hover:before {color: black;}#sk-container-id-3 div.sk-estimator:hover label.sk-toggleable__label-arrow:before {color: black;}#sk-container-id-3 div.sk-toggleable__content {max-height: 0;max-width: 0;overflow: hidden;text-align: left;background-color: #f0f8ff;}#sk-container-id-3 div.sk-toggleable__content pre {margin: 0.2em;color: black;border-radius: 0.25em;background-color: #f0f8ff;}#sk-container-id-3 input.sk-toggleable__control:checked~div.sk-toggleable__content {max-height: 200px;max-width: 100%;overflow: auto;}#sk-container-id-3 input.sk-toggleable__control:checked~label.sk-toggleable__label-arrow:before {content: \"▾\";}#sk-container-id-3 div.sk-estimator input.sk-toggleable__control:checked~label.sk-toggleable__label {background-color: #d4ebff;}#sk-container-id-3 div.sk-label input.sk-toggleable__control:checked~label.sk-toggleable__label {background-color: #d4ebff;}#sk-container-id-3 input.sk-hidden--visually {border: 0;clip: rect(1px 1px 1px 1px);clip: rect(1px, 1px, 1px, 1px);height: 1px;margin: -1px;overflow: hidden;padding: 0;position: absolute;width: 1px;}#sk-container-id-3 div.sk-estimator {font-family: monospace;background-color: #f0f8ff;border: 1px dotted black;border-radius: 0.25em;box-sizing: border-box;margin-bottom: 0.5em;}#sk-container-id-3 div.sk-estimator:hover {background-color: #d4ebff;}#sk-container-id-3 div.sk-parallel-item::after {content: \"\";width: 100%;border-bottom: 1px solid gray;flex-grow: 1;}#sk-container-id-3 div.sk-label:hover label.sk-toggleable__label {background-color: #d4ebff;}#sk-container-id-3 div.sk-serial::before {content: \"\";position: absolute;border-left: 1px solid gray;box-sizing: border-box;top: 0;bottom: 0;left: 50%;z-index: 0;}#sk-container-id-3 div.sk-serial {display: flex;flex-direction: column;align-items: center;background-color: white;padding-right: 0.2em;padding-left: 0.2em;position: relative;}#sk-container-id-3 div.sk-item {position: relative;z-index: 1;}#sk-container-id-3 div.sk-parallel {display: flex;align-items: stretch;justify-content: center;background-color: white;position: relative;}#sk-container-id-3 div.sk-item::before, #sk-container-id-3 div.sk-parallel-item::before {content: \"\";position: absolute;border-left: 1px solid gray;box-sizing: border-box;top: 0;bottom: 0;left: 50%;z-index: -1;}#sk-container-id-3 div.sk-parallel-item {display: flex;flex-direction: column;z-index: 1;position: relative;background-color: white;}#sk-container-id-3 div.sk-parallel-item:first-child::after {align-self: flex-end;width: 50%;}#sk-container-id-3 div.sk-parallel-item:last-child::after {align-self: flex-start;width: 50%;}#sk-container-id-3 div.sk-parallel-item:only-child::after {width: 0;}#sk-container-id-3 div.sk-dashed-wrapped {border: 1px dashed gray;margin: 0 0.4em 0.5em 0.4em;box-sizing: border-box;padding-bottom: 0.4em;background-color: white;}#sk-container-id-3 div.sk-label label {font-family: monospace;font-weight: bold;display: inline-block;line-height: 1.2em;}#sk-container-id-3 div.sk-label-container {text-align: center;}#sk-container-id-3 div.sk-container {/* jupyter's `normalize.less` sets `[hidden] { display: none; }` but bootstrap.min.css set `[hidden] { display: none !important; }` so we also need the `!important` here to be able to override the default hidden behavior on the sphinx rendered scikit-learn.org. See: https://github.com/scikit-learn/scikit-learn/issues/21755 */display: inline-block !important;position: relative;}#sk-container-id-3 div.sk-text-repr-fallback {display: none;}</style><div id=\"sk-container-id-3\" class=\"sk-top-container\"><div class=\"sk-text-repr-fallback\"><pre>GradientBoostingRegressor(max_depth=5, n_estimators=200)</pre><b>In a Jupyter environment, please rerun this cell to show the HTML representation or trust the notebook. <br />On GitHub, the HTML representation is unable to render, please try loading this page with nbviewer.org.</b></div><div class=\"sk-container\" hidden><div class=\"sk-item\"><div class=\"sk-estimator sk-toggleable\"><input class=\"sk-toggleable__control sk-hidden--visually\" id=\"sk-estimator-id-7\" type=\"checkbox\" checked><label for=\"sk-estimator-id-7\" class=\"sk-toggleable__label sk-toggleable__label-arrow\">GradientBoostingRegressor</label><div class=\"sk-toggleable__content\"><pre>GradientBoostingRegressor(max_depth=5, n_estimators=200)</pre></div></div></div></div></div>"
            ],
            "text/plain": [
              "GradientBoostingRegressor(max_depth=5, n_estimators=200)"
            ]
          },
          "execution_count": 19,
          "metadata": {},
          "output_type": "execute_result"
        }
      ],
      "source": [
        "from sklearn.metrics import mean_squared_error\n",
        "from sklearn.metrics import mean_absolute_error\n",
        "\n",
        "GBreg = ensemble.GradientBoostingRegressor(**search.best_params_)\n",
        "GBreg.fit(x_train, y_train)"
      ]
    },
    {
      "cell_type": "markdown",
      "metadata": {
        "id": "7XZjiqEf9CKq"
      },
      "source": [
        "With the previously mentioned best parameters:"
      ]
    },
    {
      "cell_type": "code",
      "execution_count": null,
      "metadata": {
        "colab": {
          "base_uri": "https://localhost:8080/"
        },
        "id": "1UJJooaw3L3c",
        "outputId": "e272c6bf-6e82-4c52-b1d2-a3d96e456c26"
      },
      "outputs": [
        {
          "data": {
            "text/plain": [
              "{'n_estimators': 200,\n",
              " 'min_samples_split': 2,\n",
              " 'max_depth': 5,\n",
              " 'loss': 'squared_error',\n",
              " 'learning_rate': 0.1}"
            ]
          },
          "execution_count": 20,
          "metadata": {},
          "output_type": "execute_result"
        }
      ],
      "source": [
        "search.best_params_"
      ]
    },
    {
      "cell_type": "markdown",
      "metadata": {
        "id": "0mLuojbprM76"
      },
      "source": [
        "## 5.3. Results evaluation"
      ]
    },
    {
      "cell_type": "markdown",
      "metadata": {
        "id": "8Lt-c-Ma9mFF"
      },
      "source": [
        "Now again, we can evaluate the model with the different metrics:"
      ]
    },
    {
      "cell_type": "markdown",
      "metadata": {
        "id": "BtaiDCcXtqTd"
      },
      "source": [
        "### 5.3.1. MAE"
      ]
    },
    {
      "cell_type": "markdown",
      "metadata": {
        "id": "mx_xejpS9qRO"
      },
      "source": [
        "With MAE:"
      ]
    },
    {
      "cell_type": "code",
      "execution_count": null,
      "metadata": {
        "colab": {
          "base_uri": "https://localhost:8080/"
        },
        "id": "iAz3x33prSQJ",
        "outputId": "f54241f4-56e5-4f30-bbf5-e04da9db6615"
      },
      "outputs": [
        {
          "name": "stdout",
          "output_type": "stream",
          "text": [
            "Error measure with MAE: 0.0920249358054619\n"
          ]
        }
      ],
      "source": [
        "mae = mean_absolute_error(y_test, GBreg.predict(x_test))\n",
        "print(\"Error measure with MAE:\",  mae)"
      ]
    },
    {
      "cell_type": "markdown",
      "metadata": {
        "id": "5pL9iCLxrPjv"
      },
      "source": [
        "As we can see this time there is no overfiting at all, or it occurs, but it is very small. Even though results on the test set are worse than in previous approach (0.10 vs 0.09), we decided to keep this version because it generalizes in better way."
      ]
    },
    {
      "cell_type": "markdown",
      "metadata": {
        "id": "wtJhKZGEtvnk"
      },
      "source": [
        "### 5.3.2. MSE"
      ]
    },
    {
      "cell_type": "markdown",
      "metadata": {
        "id": "wyeZfO7R91K3"
      },
      "source": [
        "With MSE:"
      ]
    },
    {
      "cell_type": "code",
      "execution_count": null,
      "metadata": {
        "colab": {
          "base_uri": "https://localhost:8080/"
        },
        "id": "MOhKcbTOtymR",
        "outputId": "2608c4f0-6347-47d6-a771-50a7327c7719"
      },
      "outputs": [
        {
          "name": "stdout",
          "output_type": "stream",
          "text": [
            "Error measure with MSE: 0.031547018862115486\n"
          ]
        }
      ],
      "source": [
        "mse = mean_squared_error(y_test, GBreg.predict(x_test))\n",
        "print(\"Error measure with MSE:\",  mse)"
      ]
    },
    {
      "cell_type": "markdown",
      "metadata": {
        "id": "OGkprvjBw0Yd"
      },
      "source": [
        "### 5.3.3. R2 Score"
      ]
    },
    {
      "cell_type": "markdown",
      "metadata": {
        "id": "6q1H2Prr92Qx"
      },
      "source": [
        "With R2 score:"
      ]
    },
    {
      "cell_type": "code",
      "execution_count": null,
      "metadata": {
        "colab": {
          "base_uri": "https://localhost:8080/"
        },
        "id": "BZHGLj1Iw3uO",
        "outputId": "09f7cd19-605c-4553-9880-f32b10e70ba5"
      },
      "outputs": [
        {
          "name": "stdout",
          "output_type": "stream",
          "text": [
            "Error measure with R2 score: 0.8952008824086234\n"
          ]
        }
      ],
      "source": [
        "r2 = r2_score(y_test, GBreg.predict(x_test))\n",
        "print(\"Error measure with R2 score:\",  r2)"
      ]
    },
    {
      "cell_type": "markdown",
      "metadata": {
        "id": "4yhtc_WbyShg"
      },
      "source": [
        "### 5.3.4. RMSE"
      ]
    },
    {
      "cell_type": "markdown",
      "metadata": {
        "id": "HJuTEPzW93mf"
      },
      "source": [
        "With RMSE:"
      ]
    },
    {
      "cell_type": "code",
      "execution_count": null,
      "metadata": {
        "colab": {
          "base_uri": "https://localhost:8080/"
        },
        "id": "k2-d2oeYyUVi",
        "outputId": "8bbad310-fae0-459d-8468-fc37512f0311"
      },
      "outputs": [
        {
          "name": "stdout",
          "output_type": "stream",
          "text": [
            "Error measure with RMSE: 0.1776148047379933\n"
          ]
        }
      ],
      "source": [
        "rmse = mean_squared_error(y_test, GBreg.predict(x_test), squared = False)\n",
        "print(\"Error measure with RMSE:\",  rmse)"
      ]
    },
    {
      "cell_type": "markdown",
      "metadata": {
        "id": "f4NcHQSb34xw"
      },
      "source": [
        "## 5.4. Saving the model"
      ]
    },
    {
      "cell_type": "markdown",
      "metadata": {
        "id": "7AqWGfWP5mwZ"
      },
      "source": [
        "We are saving the best Gradient Boosting model as joblib file named: `gradient_boosting_model.joblib`"
      ]
    },
    {
      "cell_type": "code",
      "execution_count": null,
      "metadata": {
        "colab": {
          "base_uri": "https://localhost:8080/"
        },
        "id": "OVsNwIPu3-M8",
        "outputId": "dbf36939-47a1-410d-c3d9-be3f8eb567f8"
      },
      "outputs": [
        {
          "data": {
            "text/plain": [
              "['gradient_boosting_model.joblib']"
            ]
          },
          "execution_count": 26,
          "metadata": {},
          "output_type": "execute_result"
        }
      ],
      "source": [
        "import joblib\n",
        "joblib.dump(GBreg, 'gradient_boosting_model.joblib')"
      ]
    },
    {
      "cell_type": "markdown",
      "metadata": {
        "id": "g9x7ZzKw7xzN"
      },
      "source": [
        "# 6. Regression with SVM\n",
        "\n",
        "As third method of regression we wanted to use the SVM, but learning took long time and it did not give satisfactory results. Due to that we decided to stop working on that algorithm."
      ]
    },
    {
      "cell_type": "markdown",
      "metadata": {
        "id": "j3rB9Rug8FVN"
      },
      "source": [
        "## 6.1. Parametrization"
      ]
    },
    {
      "cell_type": "markdown",
      "metadata": {
        "id": "SgoV_QJS-CUX"
      },
      "source": [
        "First, we import the necessary libraries:"
      ]
    },
    {
      "cell_type": "code",
      "execution_count": null,
      "metadata": {
        "id": "CfuUd_dRozuB"
      },
      "outputs": [],
      "source": [
        "from sklearn.svm import SVR\n",
        "from sklearn.metrics import mean_absolute_error"
      ]
    },
    {
      "cell_type": "markdown",
      "metadata": {
        "id": "MtqCfWn7-QIP"
      },
      "source": [
        "We will use three different kernels to try SVM:"
      ]
    },
    {
      "cell_type": "code",
      "execution_count": null,
      "metadata": {
        "id": "CJLsQY0DIFjm"
      },
      "outputs": [],
      "source": [
        "svr_rbf = SVR(kernel=\"rbf\", C=100, gamma=0.1, epsilon=0.1)\n",
        "svr_lin = SVR(kernel=\"linear\", C=100, gamma=\"auto\")\n",
        "svr_poly = SVR(kernel=\"poly\", C=100, gamma=\"auto\", degree=3, epsilon=0.1, coef0=1)"
      ]
    },
    {
      "cell_type": "markdown",
      "metadata": {
        "id": "132LMmW0_z4I"
      },
      "source": [
        "And we define a series of parameters to try:"
      ]
    },
    {
      "cell_type": "code",
      "execution_count": null,
      "metadata": {
        "id": "azd1xXMy71qX"
      },
      "outputs": [],
      "source": [
        "from skopt import BayesSearchCV\n",
        "from skopt.space import Real, Categorical, Integer\n",
        "from sklearn.model_selection import RepeatedStratifiedKFold\n",
        "\n",
        "params= {\n",
        "        'C': Real(1e-6, 1e+6, prior='log-uniform'),\n",
        "        'gamma': Real(1e-6, 1e+1, prior='log-uniform'),\n",
        "        'degree': Integer(1,8),\n",
        "        'kernel': Categorical(['linear', 'poly', 'rbf']),\n",
        "}\n",
        "\n",
        "# Define evaluation\n",
        "cv = RepeatedStratifiedKFold(n_splits=5, n_repeats=2, random_state=1)\n",
        "\n",
        "# Define the search\n",
        "search = BayesSearchCV(estimator=SVR(), search_spaces=params, n_jobs=-1, cv=5, n_iter=15, verbose = True)"
      ]
    },
    {
      "cell_type": "markdown",
      "metadata": {
        "id": "6W4g3r0y_5Hp"
      },
      "source": [
        "Finally, we can measure the score of the best one, as well as see its parameters:"
      ]
    },
    {
      "cell_type": "code",
      "execution_count": null,
      "metadata": {
        "id": "kvUqVWMmoXPF",
        "colab": {
          "base_uri": "https://localhost:8080/"
        },
        "outputId": "e4e026d4-f276-4d59-a5a3-4f1cf30c75a3"
      },
      "outputs": [
        {
          "output_type": "stream",
          "name": "stdout",
          "text": [
            "0.7797729596686558\n",
            "OrderedDict([('C', 1000000.0), ('degree', 7), ('gamma', 0.14554907133660852), ('kernel', 'rbf')])\n"
          ]
        }
      ],
      "source": [
        "from google.colab import output\n",
        "\n",
        "search.fit(x_train, y_train)\n",
        "output.clear()\n",
        "\n",
        "# Report the best result\n",
        "print(search.best_score_)\n",
        "print(search.best_params_)"
      ]
    },
    {
      "cell_type": "markdown",
      "metadata": {
        "id": "zxbpk2fBra90"
      },
      "source": [
        "## 6.2. Model creation"
      ]
    },
    {
      "cell_type": "markdown",
      "metadata": {
        "id": "sApGRdTUsAxY"
      },
      "source": [
        "We are creating the model with the best parameters from  Bayes search:"
      ]
    },
    {
      "cell_type": "code",
      "execution_count": null,
      "metadata": {
        "id": "cdM9kvJkrg5Y",
        "colab": {
          "base_uri": "https://localhost:8080/",
          "height": 129
        },
        "outputId": "a3055d55-e9ef-49b2-f118-55b2eede9025"
      },
      "outputs": [
        {
          "output_type": "stream",
          "name": "stderr",
          "text": [
            "/usr/local/lib/python3.8/dist-packages/sklearn/utils/validation.py:1141: DataConversionWarning: A column-vector y was passed when a 1d array was expected. Please change the shape of y to (n_samples, ), for example using ravel().\n",
            "  y = column_or_1d(y, warn=True)\n"
          ]
        },
        {
          "output_type": "execute_result",
          "data": {
            "text/plain": [
              "SVR(C=1000000.0, degree=7, gamma=0.14554907133660852)"
            ],
            "text/html": [
              "<style>#sk-container-id-1 {color: black;background-color: white;}#sk-container-id-1 pre{padding: 0;}#sk-container-id-1 div.sk-toggleable {background-color: white;}#sk-container-id-1 label.sk-toggleable__label {cursor: pointer;display: block;width: 100%;margin-bottom: 0;padding: 0.3em;box-sizing: border-box;text-align: center;}#sk-container-id-1 label.sk-toggleable__label-arrow:before {content: \"▸\";float: left;margin-right: 0.25em;color: #696969;}#sk-container-id-1 label.sk-toggleable__label-arrow:hover:before {color: black;}#sk-container-id-1 div.sk-estimator:hover label.sk-toggleable__label-arrow:before {color: black;}#sk-container-id-1 div.sk-toggleable__content {max-height: 0;max-width: 0;overflow: hidden;text-align: left;background-color: #f0f8ff;}#sk-container-id-1 div.sk-toggleable__content pre {margin: 0.2em;color: black;border-radius: 0.25em;background-color: #f0f8ff;}#sk-container-id-1 input.sk-toggleable__control:checked~div.sk-toggleable__content {max-height: 200px;max-width: 100%;overflow: auto;}#sk-container-id-1 input.sk-toggleable__control:checked~label.sk-toggleable__label-arrow:before {content: \"▾\";}#sk-container-id-1 div.sk-estimator input.sk-toggleable__control:checked~label.sk-toggleable__label {background-color: #d4ebff;}#sk-container-id-1 div.sk-label input.sk-toggleable__control:checked~label.sk-toggleable__label {background-color: #d4ebff;}#sk-container-id-1 input.sk-hidden--visually {border: 0;clip: rect(1px 1px 1px 1px);clip: rect(1px, 1px, 1px, 1px);height: 1px;margin: -1px;overflow: hidden;padding: 0;position: absolute;width: 1px;}#sk-container-id-1 div.sk-estimator {font-family: monospace;background-color: #f0f8ff;border: 1px dotted black;border-radius: 0.25em;box-sizing: border-box;margin-bottom: 0.5em;}#sk-container-id-1 div.sk-estimator:hover {background-color: #d4ebff;}#sk-container-id-1 div.sk-parallel-item::after {content: \"\";width: 100%;border-bottom: 1px solid gray;flex-grow: 1;}#sk-container-id-1 div.sk-label:hover label.sk-toggleable__label {background-color: #d4ebff;}#sk-container-id-1 div.sk-serial::before {content: \"\";position: absolute;border-left: 1px solid gray;box-sizing: border-box;top: 0;bottom: 0;left: 50%;z-index: 0;}#sk-container-id-1 div.sk-serial {display: flex;flex-direction: column;align-items: center;background-color: white;padding-right: 0.2em;padding-left: 0.2em;position: relative;}#sk-container-id-1 div.sk-item {position: relative;z-index: 1;}#sk-container-id-1 div.sk-parallel {display: flex;align-items: stretch;justify-content: center;background-color: white;position: relative;}#sk-container-id-1 div.sk-item::before, #sk-container-id-1 div.sk-parallel-item::before {content: \"\";position: absolute;border-left: 1px solid gray;box-sizing: border-box;top: 0;bottom: 0;left: 50%;z-index: -1;}#sk-container-id-1 div.sk-parallel-item {display: flex;flex-direction: column;z-index: 1;position: relative;background-color: white;}#sk-container-id-1 div.sk-parallel-item:first-child::after {align-self: flex-end;width: 50%;}#sk-container-id-1 div.sk-parallel-item:last-child::after {align-self: flex-start;width: 50%;}#sk-container-id-1 div.sk-parallel-item:only-child::after {width: 0;}#sk-container-id-1 div.sk-dashed-wrapped {border: 1px dashed gray;margin: 0 0.4em 0.5em 0.4em;box-sizing: border-box;padding-bottom: 0.4em;background-color: white;}#sk-container-id-1 div.sk-label label {font-family: monospace;font-weight: bold;display: inline-block;line-height: 1.2em;}#sk-container-id-1 div.sk-label-container {text-align: center;}#sk-container-id-1 div.sk-container {/* jupyter's `normalize.less` sets `[hidden] { display: none; }` but bootstrap.min.css set `[hidden] { display: none !important; }` so we also need the `!important` here to be able to override the default hidden behavior on the sphinx rendered scikit-learn.org. See: https://github.com/scikit-learn/scikit-learn/issues/21755 */display: inline-block !important;position: relative;}#sk-container-id-1 div.sk-text-repr-fallback {display: none;}</style><div id=\"sk-container-id-1\" class=\"sk-top-container\"><div class=\"sk-text-repr-fallback\"><pre>SVR(C=1000000.0, degree=7, gamma=0.14554907133660852)</pre><b>In a Jupyter environment, please rerun this cell to show the HTML representation or trust the notebook. <br />On GitHub, the HTML representation is unable to render, please try loading this page with nbviewer.org.</b></div><div class=\"sk-container\" hidden><div class=\"sk-item\"><div class=\"sk-estimator sk-toggleable\"><input class=\"sk-toggleable__control sk-hidden--visually\" id=\"sk-estimator-id-1\" type=\"checkbox\" checked><label for=\"sk-estimator-id-1\" class=\"sk-toggleable__label sk-toggleable__label-arrow\">SVR</label><div class=\"sk-toggleable__content\"><pre>SVR(C=1000000.0, degree=7, gamma=0.14554907133660852)</pre></div></div></div></div></div>"
            ]
          },
          "metadata": {},
          "execution_count": 60
        }
      ],
      "source": [
        "from sklearn.svm import SVR\n",
        "from sklearn.metrics import mean_absolute_error\n",
        " \n",
        "SVregressor = SVR(C = search.best_params_.get('C'), degree = search.best_params_.get('degree'),\n",
        "                  gamma = search.best_params_.get('gamma'), kernel = search.best_params_.get('kernel'))\n",
        "SVregressor.fit(x_train, y_train)"
      ]
    },
    {
      "cell_type": "markdown",
      "metadata": {
        "id": "-ZlDWQog8J49"
      },
      "source": [
        "## 6.3. Results evaluation"
      ]
    },
    {
      "cell_type": "markdown",
      "metadata": {
        "id": "nDqTdy2zAHKt"
      },
      "source": [
        "Now, we can measure the results of the evaluation:"
      ]
    },
    {
      "cell_type": "markdown",
      "metadata": {
        "id": "1Z22qrFYvKrZ"
      },
      "source": [
        "### 6.3.1. MAE"
      ]
    },
    {
      "cell_type": "markdown",
      "metadata": {
        "id": "Dko6bT9QAJ51"
      },
      "source": [
        "With MAE:"
      ]
    },
    {
      "cell_type": "code",
      "execution_count": null,
      "metadata": {
        "id": "xRK8RhbQvVIq",
        "colab": {
          "base_uri": "https://localhost:8080/"
        },
        "outputId": "5fdf41e0-71c2-44a1-a558-9974c5bfcc94"
      },
      "outputs": [
        {
          "output_type": "stream",
          "name": "stdout",
          "text": [
            "Error measure with MAE: 0.16422348447229365\n"
          ]
        }
      ],
      "source": [
        "mae = mean_absolute_error(y_test, SVregressor.predict(x_test))\n",
        "print(\"Error measure with MAE:\", mae)"
      ]
    },
    {
      "cell_type": "markdown",
      "metadata": {
        "id": "69YsraIsvM_3"
      },
      "source": [
        "### 6.3.2. MSE"
      ]
    },
    {
      "cell_type": "markdown",
      "metadata": {
        "id": "uybO5TuoANZV"
      },
      "source": [
        "With MSE:"
      ]
    },
    {
      "cell_type": "code",
      "execution_count": null,
      "metadata": {
        "id": "OHT3ecImvaCV",
        "colab": {
          "base_uri": "https://localhost:8080/"
        },
        "outputId": "5e68afb0-e6ab-472c-aa66-b6ebc859d779"
      },
      "outputs": [
        {
          "output_type": "stream",
          "name": "stdout",
          "text": [
            "Error measure with MSE: 0.0665785512199411\n"
          ]
        }
      ],
      "source": [
        "mse = mean_squared_error(y_test, SVregressor.predict(x_test))\n",
        "print(\"Error measure with MSE:\", mse)"
      ]
    },
    {
      "cell_type": "markdown",
      "metadata": {
        "id": "-Rpb2sBmxAry"
      },
      "source": [
        "### 6.3.3. R2 Score"
      ]
    },
    {
      "cell_type": "markdown",
      "metadata": {
        "id": "vdj-FsYhAORb"
      },
      "source": [
        "With R2 score:"
      ]
    },
    {
      "cell_type": "code",
      "execution_count": null,
      "metadata": {
        "id": "KATRpL84xDdY",
        "colab": {
          "base_uri": "https://localhost:8080/"
        },
        "outputId": "07aba064-99aa-4bfd-86a1-dc57b067a56c"
      },
      "outputs": [
        {
          "output_type": "stream",
          "name": "stdout",
          "text": [
            "Error measure with R2 score: 0.7788262197179856\n"
          ]
        }
      ],
      "source": [
        "r2 = r2_score(y_test, SVregressor.predict(x_test))\n",
        "print(\"Error measure with R2 score:\", r2)"
      ]
    },
    {
      "cell_type": "markdown",
      "metadata": {
        "id": "QeeFB0lGydj1"
      },
      "source": [
        "### 6.3.4. RMSE"
      ]
    },
    {
      "cell_type": "markdown",
      "metadata": {
        "id": "j1InEnvGAQVb"
      },
      "source": [
        "With RMSE:"
      ]
    },
    {
      "cell_type": "code",
      "execution_count": null,
      "metadata": {
        "id": "whVE9PScyfar",
        "colab": {
          "base_uri": "https://localhost:8080/"
        },
        "outputId": "2aeb5230-629b-4e8f-c99b-730d4e48038a"
      },
      "outputs": [
        {
          "output_type": "stream",
          "name": "stdout",
          "text": [
            "Error measure with RMSE: 0.25802819849764697\n"
          ]
        }
      ],
      "source": [
        "rmse = mean_squared_error(y_test, SVregressor.predict(x_test), squared=False)\n",
        "print(\"Error measure with RMSE:\", rmse)"
      ]
    },
    {
      "cell_type": "markdown",
      "metadata": {
        "id": "wHCLE21y4c5J"
      },
      "source": [
        "## 6.4. Saving the model"
      ]
    },
    {
      "cell_type": "markdown",
      "metadata": {
        "id": "maRZsIXe5u37"
      },
      "source": [
        "We are saving the best Support Vector Regression model as joblib file named: `SVR_model.joblib`"
      ]
    },
    {
      "cell_type": "code",
      "execution_count": null,
      "metadata": {
        "id": "nDX7hzw74ccm",
        "colab": {
          "base_uri": "https://localhost:8080/"
        },
        "outputId": "f308ae8b-56dd-43ec-ec67-752d0ab1cdc7"
      },
      "outputs": [
        {
          "output_type": "execute_result",
          "data": {
            "text/plain": [
              "['SVR_model.joblib']"
            ]
          },
          "metadata": {},
          "execution_count": 65
        }
      ],
      "source": [
        "import joblib\n",
        "joblib.dump(SVregressor, 'SVR_model.joblib')"
      ]
    },
    {
      "cell_type": "markdown",
      "metadata": {
        "id": "xfqma-AdxrQP"
      },
      "source": [
        "# 7. Regression with Neural Networks"
      ]
    },
    {
      "cell_type": "markdown",
      "source": [
        "Finally, we can try using neural networks for our regression purposes. Sadly, we have already implemented GradientBoosting in our solution, but it is always interesting to see the results of using this approach."
      ],
      "metadata": {
        "id": "6IsQak_dp8ML"
      }
    },
    {
      "cell_type": "markdown",
      "source": [
        "## 7.1. Model creation"
      ],
      "metadata": {
        "id": "i97KMQVsqU5V"
      }
    },
    {
      "cell_type": "markdown",
      "source": [
        "In this case, we will using some arbitrary values for our neural networks, which implements a dense layer of 20 nodes with a `relu` activation function, and another dense layer with only 1 node for the output value. A better parametrization could led to potentially improved results."
      ],
      "metadata": {
        "id": "GLosRoiUqXZt"
      }
    },
    {
      "cell_type": "code",
      "execution_count": null,
      "metadata": {
        "id": "K6KWofAKx1W5"
      },
      "outputs": [],
      "source": [
        "# TensorFlow and tf.keras\n",
        "import tensorflow as tf\n",
        "from tensorflow import keras\n",
        "from tensorflow.keras.layers import Dense\n",
        "from keras.regularizers import l1\n",
        "import matplotlib.pyplot as plt\n",
        "\n",
        "# Commonly used modules\n",
        "import numpy as np\n",
        "\n",
        "train = x_train.join(y_train)\n",
        "\n",
        "NNmodel = keras.Sequential([\n",
        "        Dense(20, activation=tf.nn.relu, input_shape=[len(train.columns)],  activity_regularizer=l1(0.001)),\n",
        "        Dense(1)\n",
        "    ])\n",
        "\n",
        "NNmodel.compile(optimizer=\"adam\", \n",
        "                  loss='mse',\n",
        "                  metrics=['mae', 'mse'])"
      ]
    },
    {
      "cell_type": "markdown",
      "source": [
        "Now that we implemented our model, we can start training for 20 epochs, a value chosen to prevent overfitting, since training for longer times makes the model suffer from this phenom at around 30-40 epochs."
      ],
      "metadata": {
        "id": "knSVzCA-qxgK"
      }
    },
    {
      "cell_type": "code",
      "execution_count": null,
      "metadata": {
        "id": "IqZJSoQnyxov",
        "colab": {
          "base_uri": "https://localhost:8080/"
        },
        "outputId": "490a201b-ced0-4f7d-82a4-8a63a07924d3"
      },
      "outputs": [
        {
          "output_type": "stream",
          "name": "stdout",
          "text": [
            "Epoch 1/20\n",
            "344/344 [==============================] - 1s 2ms/step - loss: 0.0928 - mae: 0.0503 - mse: 0.0052 - val_loss: 0.0903 - val_mae: 0.0497 - val_mse: 0.0052\n",
            "Epoch 2/20\n",
            "344/344 [==============================] - 1s 2ms/step - loss: 0.0873 - mae: 0.0454 - mse: 0.0042 - val_loss: 0.0854 - val_mae: 0.0541 - val_mse: 0.0051\n",
            "Epoch 3/20\n",
            "344/344 [==============================] - 1s 3ms/step - loss: 0.0815 - mae: 0.0424 - mse: 0.0037 - val_loss: 0.0789 - val_mae: 0.0411 - val_mse: 0.0039\n",
            "Epoch 4/20\n",
            "344/344 [==============================] - 1s 3ms/step - loss: 0.0754 - mae: 0.0372 - mse: 0.0031 - val_loss: 0.0723 - val_mae: 0.0352 - val_mse: 0.0030\n",
            "Epoch 5/20\n",
            "344/344 [==============================] - 1s 3ms/step - loss: 0.0697 - mae: 0.0379 - mse: 0.0033 - val_loss: 0.0666 - val_mae: 0.0384 - val_mse: 0.0033\n",
            "Epoch 6/20\n",
            "344/344 [==============================] - 1s 2ms/step - loss: 0.0639 - mae: 0.0402 - mse: 0.0036 - val_loss: 0.0607 - val_mae: 0.0378 - val_mse: 0.0035\n",
            "Epoch 7/20\n",
            "344/344 [==============================] - 1s 2ms/step - loss: 0.0585 - mae: 0.0415 - mse: 0.0040 - val_loss: 0.0557 - val_mae: 0.0396 - val_mse: 0.0039\n",
            "Epoch 8/20\n",
            "344/344 [==============================] - 1s 2ms/step - loss: 0.0536 - mae: 0.0430 - mse: 0.0043 - val_loss: 0.0511 - val_mae: 0.0441 - val_mse: 0.0042\n",
            "Epoch 9/20\n",
            "344/344 [==============================] - 1s 2ms/step - loss: 0.0485 - mae: 0.0426 - mse: 0.0041 - val_loss: 0.0455 - val_mae: 0.0390 - val_mse: 0.0035\n",
            "Epoch 10/20\n",
            "344/344 [==============================] - 1s 2ms/step - loss: 0.0429 - mae: 0.0396 - mse: 0.0035 - val_loss: 0.0396 - val_mae: 0.0350 - val_mse: 0.0030\n",
            "Epoch 11/20\n",
            "344/344 [==============================] - 1s 2ms/step - loss: 0.0371 - mae: 0.0381 - mse: 0.0033 - val_loss: 0.0339 - val_mae: 0.0357 - val_mse: 0.0031\n",
            "Epoch 12/20\n",
            "344/344 [==============================] - 1s 2ms/step - loss: 0.0318 - mae: 0.0392 - mse: 0.0033 - val_loss: 0.0294 - val_mae: 0.0371 - val_mse: 0.0033\n",
            "Epoch 13/20\n",
            "344/344 [==============================] - 1s 2ms/step - loss: 0.0276 - mae: 0.0400 - mse: 0.0034 - val_loss: 0.0253 - val_mae: 0.0363 - val_mse: 0.0031\n",
            "Epoch 14/20\n",
            "344/344 [==============================] - 1s 2ms/step - loss: 0.0240 - mae: 0.0398 - mse: 0.0033 - val_loss: 0.0221 - val_mae: 0.0351 - val_mse: 0.0028\n",
            "Epoch 15/20\n",
            "344/344 [==============================] - 1s 2ms/step - loss: 0.0208 - mae: 0.0379 - mse: 0.0030 - val_loss: 0.0209 - val_mae: 0.0499 - val_mse: 0.0041\n",
            "Epoch 16/20\n",
            "344/344 [==============================] - 1s 2ms/step - loss: 0.0182 - mae: 0.0351 - mse: 0.0026 - val_loss: 0.0168 - val_mae: 0.0294 - val_mse: 0.0022\n",
            "Epoch 17/20\n",
            "344/344 [==============================] - 1s 2ms/step - loss: 0.0157 - mae: 0.0319 - mse: 0.0022 - val_loss: 0.0142 - val_mae: 0.0284 - val_mse: 0.0018\n",
            "Epoch 18/20\n",
            "344/344 [==============================] - 1s 2ms/step - loss: 0.0131 - mae: 0.0305 - mse: 0.0020 - val_loss: 0.0117 - val_mae: 0.0299 - val_mse: 0.0018\n",
            "Epoch 19/20\n",
            "344/344 [==============================] - 1s 2ms/step - loss: 0.0108 - mae: 0.0313 - mse: 0.0019 - val_loss: 0.0095 - val_mae: 0.0285 - val_mse: 0.0016\n",
            "Epoch 20/20\n",
            "344/344 [==============================] - 1s 2ms/step - loss: 0.0089 - mae: 0.0301 - mse: 0.0018 - val_loss: 0.0092 - val_mae: 0.0386 - val_mse: 0.0027\n",
            "\n",
            "RMSE for validation: 0.052\n"
          ]
        }
      ],
      "source": [
        "history = NNmodel.fit(train, train['GASTO X CAPITA'], epochs = 20, verbose = 1, validation_split = 0.2)\n",
        "\n",
        "hist = pd.DataFrame(history.history)\n",
        "hist['epoch'] = history.epoch\n",
        "\n",
        "rmse_final = np.sqrt(float(hist['val_mse'].tail(1)))\n",
        "print('\\nRMSE for validation: {}'.format(round(rmse_final, 3)))"
      ]
    },
    {
      "cell_type": "markdown",
      "source": [
        "## 7.2. Results evaluation"
      ],
      "metadata": {
        "id": "6_yw3wVsrB5O"
      }
    },
    {
      "cell_type": "markdown",
      "source": [
        "As always, it is interesting to evaluate the results obtained from the training:"
      ],
      "metadata": {
        "id": "7yn6V-IgrKWz"
      }
    },
    {
      "cell_type": "code",
      "execution_count": null,
      "metadata": {
        "id": "bupVwnlU3py7",
        "colab": {
          "base_uri": "https://localhost:8080/",
          "height": 279
        },
        "outputId": "d0fc836e-84b1-4d89-80dd-37707852e343"
      },
      "outputs": [
        {
          "output_type": "display_data",
          "data": {
            "text/plain": [
              "<Figure size 432x288 with 1 Axes>"
            ],
            "image/png": "[encoded data removed]"
          },
          "metadata": {
            "needs_background": "light"
          }
        }
      ],
      "source": [
        "def plot_history():\n",
        "    plt.figure()\n",
        "    plt.xlabel('Epoch')\n",
        "    plt.ylabel('MSE')\n",
        "    plt.plot(hist['epoch'], hist['mse'], label='Train Error')\n",
        "    plt.plot(hist['epoch'], hist['val_mse'], label = 'Val Error')\n",
        "    plt.legend()\n",
        "    \n",
        "\n",
        "plot_history()"
      ]
    },
    {
      "cell_type": "markdown",
      "source": [
        "As we can see, the validation loss seems to be consistently decreasing, which indicates that no overfitting is present, as we previously stated. We can see the RMSE loss in this case:"
      ],
      "metadata": {
        "id": "p-tlV6raraB_"
      }
    },
    {
      "cell_type": "code",
      "execution_count": null,
      "metadata": {
        "id": "vL4_6Dex3vvV",
        "colab": {
          "base_uri": "https://localhost:8080/"
        },
        "outputId": "63b57816-a7ae-4f90-84d0-1db12dc67dff"
      },
      "outputs": [
        {
          "output_type": "stream",
          "name": "stdout",
          "text": [
            "108/108 [==============================] - 0s 1ms/step - loss: 0.0092 - mae: 0.0380 - mse: 0.0027\n",
            "RMSE for test: 0.096\n"
          ]
        }
      ],
      "source": [
        "test = x_test.join(y_test)\n",
        "mse, _, _ = NNmodel.evaluate(test, test['GASTO X CAPITA'])\n",
        "rmse = np.sqrt(mse)\n",
        "print('RMSE for test: {}'.format(round(rmse, 3)))"
      ]
    },
    {
      "cell_type": "markdown",
      "source": [
        "It is very low, making this model the best one achieved at this point. With the following graphic we can see how good our model is at predicting:"
      ],
      "metadata": {
        "id": "VHUZJs8-ruOh"
      }
    },
    {
      "cell_type": "code",
      "execution_count": null,
      "metadata": {
        "id": "_JtWQBhm6I9q",
        "colab": {
          "base_uri": "https://localhost:8080/",
          "height": 353
        },
        "outputId": "955ec257-7408-44d7-f755-4dd34276212e"
      },
      "outputs": [
        {
          "output_type": "stream",
          "name": "stdout",
          "text": [
            "4/4 [==============================] - 0s 4ms/step\n"
          ]
        },
        {
          "output_type": "stream",
          "name": "stderr",
          "text": [
            "/usr/local/lib/python3.8/dist-packages/IPython/core/interactiveshell.py:3249: FutureWarning: arrays to stack must be passed as a \"sequence\" type such as list or tuple. Support for non-sequence iterables such as generators is deprecated as of NumPy 1.16 and will raise an error in the future.\n",
            "  if (await self.run_code(code, result,  async_=asy)):\n"
          ]
        },
        {
          "output_type": "display_data",
          "data": {
            "text/plain": [
              "<Figure size 432x288 with 1 Axes>"
            ],
            "image/png": "[encoded data removed]"
          },
          "metadata": {
            "needs_background": "light"
          }
        }
      ],
      "source": [
        "y_pred = NNmodel.predict(test.head(100))\n",
        "\n",
        "xx = np.stack(i for i in range(len(test['GASTO X CAPITA'].head(100))))  \n",
        "plt.scatter(xx, test['GASTO X CAPITA'].head(100), c='k', label='Data')\n",
        "plt.scatter(xx, y_pred, c='g', label='Prediction')\n",
        "plt.title(\"Regression results\" )\n",
        "\n",
        "plt.show()"
      ]
    },
    {
      "cell_type": "markdown",
      "source": [
        "With the green points representing the predicted values and the black ones representing the real values, we can see how our model predicts very close values to the real ones."
      ],
      "metadata": {
        "id": "_dyB1VZTr37d"
      }
    },
    {
      "cell_type": "markdown",
      "source": [
        "## 7.3. Saving the model"
      ],
      "metadata": {
        "id": "Od11_cIosHxB"
      }
    },
    {
      "cell_type": "markdown",
      "source": [
        "Finally, we can save the model:"
      ],
      "metadata": {
        "id": "VYRN4vSTsJ30"
      }
    },
    {
      "cell_type": "code",
      "source": [
        "import joblib\n",
        "joblib.dump(NNmodel, 'Neural_Network_model.joblib')"
      ],
      "metadata": {
        "colab": {
          "base_uri": "https://localhost:8080/"
        },
        "id": "f3JDVb11JfgD",
        "outputId": "3fd0c197-f145-40d1-e9b8-29b46ca46ef8"
      },
      "execution_count": null,
      "outputs": [
        {
          "output_type": "execute_result",
          "data": {
            "text/plain": [
              "['Neural_Network_model.joblib']"
            ]
          },
          "metadata": {},
          "execution_count": 24
        }
      ]
    },
    {
      "cell_type": "markdown",
      "metadata": {
        "id": "QnFQS2pbi5_I"
      },
      "source": [
        "# 8. Optimal product prediction"
      ]
    },
    {
      "cell_type": "markdown",
      "metadata": {
        "id": "gz6rf75eAvmn"
      },
      "source": [
        "Once we have implemented all the models and measured all the necessary stats about them, we can check the following comparative table:"
      ]
    },
    {
      "cell_type": "markdown",
      "source": [
        "|                   |   MAE  |   MSE  | R2 Score |  RMSE  |\n",
        "|-------------------|:------:|:------:|:--------:|:------:|\n",
        "|     Random Forest | 0.1403 | 0.0703 |  0.7665  | 0.2651 |\n",
        "| Gradient Boosting | 0.0920 | 0.0315 |  0.8952  | 0.1776 |\n",
        "|               SVM | 0.1642 | 0.0665 |  0.7788  | 0.2580 |\n",
        "|    Neural Network | 0.0386 | 0.0090 |     -    | 0.0960 |"
      ],
      "metadata": {
        "id": "pJCU_eMSwDYy"
      }
    },
    {
      "cell_type": "markdown",
      "source": [
        "The conclusions that can be obtained from these results are quite clear: the neural network is the best model even without a proper parametrization, while the best one out of the first three is the GradientBoosting, implemented in our solution, since, as we mentioned before we developed our neural network later on."
      ],
      "metadata": {
        "id": "Ee1HwfnkwtK5"
      }
    },
    {
      "cell_type": "markdown",
      "source": [
        "The implementation of the system can be found in this [repository](https://github.com/RaulBarbaRojas/DataMining)."
      ],
      "metadata": {
        "id": "QLtwdtHLzYDn"
      }
    },
    {
      "cell_type": "markdown",
      "source": [
        "This implementation consists in an API based on Postman, working through post requests, and implementing 4 different services:\n",
        "\n",
        "- OptimalProduct: given a month and a year, returns the optimal product to sell in that moment.\n",
        "- OptimalProductCCAA: the same as the previous one, but also given an specific region.\n",
        "- SpecificProduct: given a month, a year and a product, returns the expected value at that moment.\n",
        "- SpecificProductCCAA: the same as the previous one, but in a given region."
      ],
      "metadata": {
        "id": "90b3C4SP4voZ"
      }
    }
  ],
  "metadata": {
    "colab": {
      "provenance": []
    },
    "kernelspec": {
      "display_name": "Python 3",
      "name": "python3"
    },
    "language_info": {
      "name": "python"
    }
  },
  "nbformat": 4,
  "nbformat_minor": 0
}